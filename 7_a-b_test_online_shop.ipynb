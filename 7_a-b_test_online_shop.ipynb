{
 "cells": [
  {
   "cell_type": "markdown",
   "metadata": {},
   "source": [
    "# Проверка гипотез в интернет магазине."
   ]
  },
  {
   "cell_type": "markdown",
   "metadata": {},
   "source": [
    "## Контекст\n",
    "Вместе с отделом маркетинга мы подготовили список гипотез для увеличения выручки.\n",
    "Приоритизируем гипотезы, запустим A/B-тест и проанализируем результаты. "
   ]
  },
  {
   "cell_type": "markdown",
   "metadata": {},
   "source": [
    "## Задачи.\n",
    "\n",
    "* Проверить на приоритезацию гипотезы по увеличению выручки интернет-магазина:\n",
    "\n",
    "    - Добавить два новых канала привлечения трафика, что позволит привлекать на 30% больше пользователей;\n",
    "    - Запустить собственную службу доставки, что сократит срок доставки заказов;\n",
    "    - Добавить блоки рекомендаций товаров на сайт интернет магазина, чтобы повысить конверсию и средний чек заказа;\n",
    "    - Изменить структура категорий, что увеличит конверсию, т.к. пользователи быстрее найдут нужный товар;\n",
    "    - Изменить цвет фона главной страницы, чтобы увеличить вовлеченность пользователей;\n",
    "    - Добавить страницу отзывов клиентов о магазине, что позволит увеличить количество заказов;\n",
    "    - Показать на главной странице баннеры с актуальными акциями и распродажами, чтобы увеличить конверсию;\n",
    "    - Добавить форму подписки на все основные страницы, чтобы собрать базу клиентов для email-рассылок;\n",
    "    - Запустить акцию, дающую скидку на товар в день рождения.\n",
    "\n",
    "\n",
    "* Проанализировать A/B-тест:\n",
    "    - Построить график кумулятивной выручки по группам.\n",
    "    - Построить график кумулятивного среднего чека по группам.\n",
    "    - Построить график относительного изменения кумулятивного среднего чека группы B к группе A. \n",
    "    - Построить график кумулятивного среднего количества заказов на посетителя по группам.\n",
    "    - Построить график относительного изменения кумулятивного среднего количества заказов на посетителя группы B к группе A. \n",
    "    - Построить точечный график количества заказов по пользователям.\n",
    "    - Посчитайть 95-й и 99-й перцентили количества заказов на пользователя. Выбрать границу для определения аномальных пользователей.\n",
    "    - Построить точечный график стоимостей заказов.\n",
    "    - Посчитать 95-й и 99-й перцентили стоимости заказов. Выбрать границу для определения аномальных заказов.\n",
    "    - Посчитать статистическую значимость различий в среднем количестве заказов на посетителя между группами по «сырым» данным. \n",
    "    - Посчитать статистическую значимость различий в среднем чеке заказа между группами по «сырым» данным.\n",
    "    - Посчитать статистическую значимость различий в среднем количестве заказов на посетителя между группами по «очищенным» данным.\n",
    "    - Посчитать статистическую значимость различий в среднем чеке заказа между группами по «очищенным» данным. \n",
    "    - Принять решение по результатам теста и объяснить его. Варианты решений:\n",
    "        + Остановить тест, зафиксировать победу одной из групп.\n",
    "        + Остановить тест, зафиксировать отсутствие различий между группами.\n",
    "        + Продолжить тест."
   ]
  },
  {
   "cell_type": "markdown",
   "metadata": {},
   "source": [
    "## Описание данных\n",
    "### Данные для первой части\n",
    "Файл hypothesis.csv\n",
    "* Hypothesis — краткое описание гипотезы;\n",
    "* Reach — охват пользователей по 10-балльной шкале;\n",
    "* Impact — влияние на пользователей по 10-балльной шкале;\n",
    "* Confidence — уверенность в гипотезе по 10-балльной шкале;\n",
    "* Efforts — затраты ресурсов на проверку гипотезы по 10-балльной шкале. Чем больше значение Efforts, тем дороже проверка гипотезы.\n",
    "\n",
    "### Данные для второй части\n",
    "Файл orders.csv\n",
    "* transactionId — идентификатор заказа;\n",
    "* visitorId — идентификатор пользователя, совершившего заказ;\n",
    "* date — дата, когда был совершён заказ;\n",
    "* revenue — выручка заказа;\n",
    "* group — группа A/B-теста, в которую попал заказ.\n",
    "\n",
    "\n",
    "Файл visitors.csv\n",
    "* date — дата;\n",
    "* group — группа A/B-теста;\n",
    "* visitors — количество пользователей в указанную дату в указанной группе A/B-теста"
   ]
  },
  {
   "cell_type": "markdown",
   "metadata": {},
   "source": [
    "## Загрузим данные и подготовим их к анализу"
   ]
  },
  {
   "cell_type": "code",
   "execution_count": 54,
   "metadata": {},
   "outputs": [],
   "source": [
    "import pandas as pd\n",
    "from datetime import datetime, timedelta\n",
    "import datetime as dt\n",
    "from matplotlib import pyplot as plt\n",
    "import numpy as np\n",
    "import scipy.stats as stats\n"
   ]
  },
  {
   "cell_type": "code",
   "execution_count": 55,
   "metadata": {},
   "outputs": [],
   "source": [
    "pd.options.display.max_colwidth = 125"
   ]
  },
  {
   "cell_type": "code",
   "execution_count": 56,
   "metadata": {},
   "outputs": [
    {
     "data": {
      "text/html": [
       "<div>\n",
       "<style scoped>\n",
       "    .dataframe tbody tr th:only-of-type {\n",
       "        vertical-align: middle;\n",
       "    }\n",
       "\n",
       "    .dataframe tbody tr th {\n",
       "        vertical-align: top;\n",
       "    }\n",
       "\n",
       "    .dataframe thead th {\n",
       "        text-align: right;\n",
       "    }\n",
       "</style>\n",
       "<table border=\"1\" class=\"dataframe\">\n",
       "  <thead>\n",
       "    <tr style=\"text-align: right;\">\n",
       "      <th></th>\n",
       "      <th>Hypothesis</th>\n",
       "      <th>Reach</th>\n",
       "      <th>Impact</th>\n",
       "      <th>Confidence</th>\n",
       "      <th>Efforts</th>\n",
       "    </tr>\n",
       "  </thead>\n",
       "  <tbody>\n",
       "    <tr>\n",
       "      <th>0</th>\n",
       "      <td>Добавить два новых канала привлечения трафика, что позволит привлекать на 30% больше пользователей</td>\n",
       "      <td>3</td>\n",
       "      <td>10</td>\n",
       "      <td>8</td>\n",
       "      <td>6</td>\n",
       "    </tr>\n",
       "    <tr>\n",
       "      <th>1</th>\n",
       "      <td>Запустить собственную службу доставки, что сократит срок доставки заказов</td>\n",
       "      <td>2</td>\n",
       "      <td>5</td>\n",
       "      <td>4</td>\n",
       "      <td>10</td>\n",
       "    </tr>\n",
       "    <tr>\n",
       "      <th>2</th>\n",
       "      <td>Добавить блоки рекомендаций товаров на сайт интернет магазина, чтобы повысить конверсию и средний чек заказа</td>\n",
       "      <td>8</td>\n",
       "      <td>3</td>\n",
       "      <td>7</td>\n",
       "      <td>3</td>\n",
       "    </tr>\n",
       "    <tr>\n",
       "      <th>3</th>\n",
       "      <td>Изменить структура категорий, что увеличит конверсию, т.к. пользователи быстрее найдут нужный товар</td>\n",
       "      <td>8</td>\n",
       "      <td>3</td>\n",
       "      <td>3</td>\n",
       "      <td>8</td>\n",
       "    </tr>\n",
       "    <tr>\n",
       "      <th>4</th>\n",
       "      <td>Изменить цвет фона главной страницы, чтобы увеличить вовлеченность пользователей</td>\n",
       "      <td>3</td>\n",
       "      <td>1</td>\n",
       "      <td>1</td>\n",
       "      <td>1</td>\n",
       "    </tr>\n",
       "    <tr>\n",
       "      <th>5</th>\n",
       "      <td>Добавить страницу отзывов клиентов о магазине, что позволит увеличить количество заказов</td>\n",
       "      <td>3</td>\n",
       "      <td>2</td>\n",
       "      <td>2</td>\n",
       "      <td>3</td>\n",
       "    </tr>\n",
       "    <tr>\n",
       "      <th>6</th>\n",
       "      <td>Показать на главной странице баннеры с актуальными акциями и распродажами, чтобы увеличить конверсию</td>\n",
       "      <td>5</td>\n",
       "      <td>3</td>\n",
       "      <td>8</td>\n",
       "      <td>3</td>\n",
       "    </tr>\n",
       "    <tr>\n",
       "      <th>7</th>\n",
       "      <td>Добавить форму подписки на все основные страницы, чтобы собрать базу клиентов для email-рассылок</td>\n",
       "      <td>10</td>\n",
       "      <td>7</td>\n",
       "      <td>8</td>\n",
       "      <td>5</td>\n",
       "    </tr>\n",
       "    <tr>\n",
       "      <th>8</th>\n",
       "      <td>Запустить акцию, дающую скидку на товар в день рождения</td>\n",
       "      <td>1</td>\n",
       "      <td>9</td>\n",
       "      <td>9</td>\n",
       "      <td>5</td>\n",
       "    </tr>\n",
       "  </tbody>\n",
       "</table>\n",
       "</div>"
      ],
      "text/plain": [
       "                                                                                                     Hypothesis  \\\n",
       "0            Добавить два новых канала привлечения трафика, что позволит привлекать на 30% больше пользователей   \n",
       "1                                     Запустить собственную службу доставки, что сократит срок доставки заказов   \n",
       "2  Добавить блоки рекомендаций товаров на сайт интернет магазина, чтобы повысить конверсию и средний чек заказа   \n",
       "3           Изменить структура категорий, что увеличит конверсию, т.к. пользователи быстрее найдут нужный товар   \n",
       "4                              Изменить цвет фона главной страницы, чтобы увеличить вовлеченность пользователей   \n",
       "5                      Добавить страницу отзывов клиентов о магазине, что позволит увеличить количество заказов   \n",
       "6          Показать на главной странице баннеры с актуальными акциями и распродажами, чтобы увеличить конверсию   \n",
       "7              Добавить форму подписки на все основные страницы, чтобы собрать базу клиентов для email-рассылок   \n",
       "8                                                       Запустить акцию, дающую скидку на товар в день рождения   \n",
       "\n",
       "   Reach  Impact  Confidence  Efforts  \n",
       "0      3      10           8        6  \n",
       "1      2       5           4       10  \n",
       "2      8       3           7        3  \n",
       "3      8       3           3        8  \n",
       "4      3       1           1        1  \n",
       "5      3       2           2        3  \n",
       "6      5       3           8        3  \n",
       "7     10       7           8        5  \n",
       "8      1       9           9        5  "
      ]
     },
     "execution_count": 56,
     "metadata": {},
     "output_type": "execute_result"
    }
   ],
   "source": [
    "data = pd.read_csv('hypothesis.csv')\n",
    "\n",
    "data"
   ]
  },
  {
   "cell_type": "code",
   "execution_count": 57,
   "metadata": {},
   "outputs": [
    {
     "data": {
      "text/html": [
       "<div>\n",
       "<style scoped>\n",
       "    .dataframe tbody tr th:only-of-type {\n",
       "        vertical-align: middle;\n",
       "    }\n",
       "\n",
       "    .dataframe tbody tr th {\n",
       "        vertical-align: top;\n",
       "    }\n",
       "\n",
       "    .dataframe thead th {\n",
       "        text-align: right;\n",
       "    }\n",
       "</style>\n",
       "<table border=\"1\" class=\"dataframe\">\n",
       "  <thead>\n",
       "    <tr style=\"text-align: right;\">\n",
       "      <th></th>\n",
       "      <th>transactionId</th>\n",
       "      <th>visitorId</th>\n",
       "      <th>date</th>\n",
       "      <th>revenue</th>\n",
       "      <th>group</th>\n",
       "    </tr>\n",
       "  </thead>\n",
       "  <tbody>\n",
       "    <tr>\n",
       "      <th>0</th>\n",
       "      <td>3667963787</td>\n",
       "      <td>3312258926</td>\n",
       "      <td>2019-08-15</td>\n",
       "      <td>1650</td>\n",
       "      <td>B</td>\n",
       "    </tr>\n",
       "    <tr>\n",
       "      <th>1</th>\n",
       "      <td>2804400009</td>\n",
       "      <td>3642806036</td>\n",
       "      <td>2019-08-15</td>\n",
       "      <td>730</td>\n",
       "      <td>B</td>\n",
       "    </tr>\n",
       "    <tr>\n",
       "      <th>2</th>\n",
       "      <td>2961555356</td>\n",
       "      <td>4069496402</td>\n",
       "      <td>2019-08-15</td>\n",
       "      <td>400</td>\n",
       "      <td>A</td>\n",
       "    </tr>\n",
       "    <tr>\n",
       "      <th>3</th>\n",
       "      <td>3797467345</td>\n",
       "      <td>1196621759</td>\n",
       "      <td>2019-08-15</td>\n",
       "      <td>9759</td>\n",
       "      <td>B</td>\n",
       "    </tr>\n",
       "    <tr>\n",
       "      <th>4</th>\n",
       "      <td>2282983706</td>\n",
       "      <td>2322279887</td>\n",
       "      <td>2019-08-15</td>\n",
       "      <td>2308</td>\n",
       "      <td>B</td>\n",
       "    </tr>\n",
       "    <tr>\n",
       "      <th>...</th>\n",
       "      <td>...</td>\n",
       "      <td>...</td>\n",
       "      <td>...</td>\n",
       "      <td>...</td>\n",
       "      <td>...</td>\n",
       "    </tr>\n",
       "    <tr>\n",
       "      <th>1192</th>\n",
       "      <td>2662137336</td>\n",
       "      <td>3733762160</td>\n",
       "      <td>2019-08-14</td>\n",
       "      <td>6490</td>\n",
       "      <td>B</td>\n",
       "    </tr>\n",
       "    <tr>\n",
       "      <th>1193</th>\n",
       "      <td>2203539145</td>\n",
       "      <td>370388673</td>\n",
       "      <td>2019-08-14</td>\n",
       "      <td>3190</td>\n",
       "      <td>A</td>\n",
       "    </tr>\n",
       "    <tr>\n",
       "      <th>1194</th>\n",
       "      <td>1807773912</td>\n",
       "      <td>573423106</td>\n",
       "      <td>2019-08-14</td>\n",
       "      <td>10550</td>\n",
       "      <td>A</td>\n",
       "    </tr>\n",
       "    <tr>\n",
       "      <th>1195</th>\n",
       "      <td>1947021204</td>\n",
       "      <td>1614305549</td>\n",
       "      <td>2019-08-14</td>\n",
       "      <td>100</td>\n",
       "      <td>A</td>\n",
       "    </tr>\n",
       "    <tr>\n",
       "      <th>1196</th>\n",
       "      <td>3936777065</td>\n",
       "      <td>2108080724</td>\n",
       "      <td>2019-08-15</td>\n",
       "      <td>202740</td>\n",
       "      <td>B</td>\n",
       "    </tr>\n",
       "  </tbody>\n",
       "</table>\n",
       "<p>1197 rows × 5 columns</p>\n",
       "</div>"
      ],
      "text/plain": [
       "      transactionId   visitorId        date  revenue group\n",
       "0        3667963787  3312258926  2019-08-15     1650     B\n",
       "1        2804400009  3642806036  2019-08-15      730     B\n",
       "2        2961555356  4069496402  2019-08-15      400     A\n",
       "3        3797467345  1196621759  2019-08-15     9759     B\n",
       "4        2282983706  2322279887  2019-08-15     2308     B\n",
       "...             ...         ...         ...      ...   ...\n",
       "1192     2662137336  3733762160  2019-08-14     6490     B\n",
       "1193     2203539145   370388673  2019-08-14     3190     A\n",
       "1194     1807773912   573423106  2019-08-14    10550     A\n",
       "1195     1947021204  1614305549  2019-08-14      100     A\n",
       "1196     3936777065  2108080724  2019-08-15   202740     B\n",
       "\n",
       "[1197 rows x 5 columns]"
      ]
     },
     "execution_count": 57,
     "metadata": {},
     "output_type": "execute_result"
    }
   ],
   "source": [
    "orders = pd.read_csv('orders.csv')\n",
    "\n",
    "orders"
   ]
  },
  {
   "cell_type": "code",
   "execution_count": 58,
   "metadata": {},
   "outputs": [
    {
     "data": {
      "text/html": [
       "<div>\n",
       "<style scoped>\n",
       "    .dataframe tbody tr th:only-of-type {\n",
       "        vertical-align: middle;\n",
       "    }\n",
       "\n",
       "    .dataframe tbody tr th {\n",
       "        vertical-align: top;\n",
       "    }\n",
       "\n",
       "    .dataframe thead th {\n",
       "        text-align: right;\n",
       "    }\n",
       "</style>\n",
       "<table border=\"1\" class=\"dataframe\">\n",
       "  <thead>\n",
       "    <tr style=\"text-align: right;\">\n",
       "      <th></th>\n",
       "      <th>date</th>\n",
       "      <th>group</th>\n",
       "      <th>visitors</th>\n",
       "    </tr>\n",
       "  </thead>\n",
       "  <tbody>\n",
       "    <tr>\n",
       "      <th>0</th>\n",
       "      <td>2019-08-01</td>\n",
       "      <td>A</td>\n",
       "      <td>719</td>\n",
       "    </tr>\n",
       "    <tr>\n",
       "      <th>1</th>\n",
       "      <td>2019-08-02</td>\n",
       "      <td>A</td>\n",
       "      <td>619</td>\n",
       "    </tr>\n",
       "    <tr>\n",
       "      <th>2</th>\n",
       "      <td>2019-08-03</td>\n",
       "      <td>A</td>\n",
       "      <td>507</td>\n",
       "    </tr>\n",
       "    <tr>\n",
       "      <th>3</th>\n",
       "      <td>2019-08-04</td>\n",
       "      <td>A</td>\n",
       "      <td>717</td>\n",
       "    </tr>\n",
       "    <tr>\n",
       "      <th>4</th>\n",
       "      <td>2019-08-05</td>\n",
       "      <td>A</td>\n",
       "      <td>756</td>\n",
       "    </tr>\n",
       "    <tr>\n",
       "      <th>...</th>\n",
       "      <td>...</td>\n",
       "      <td>...</td>\n",
       "      <td>...</td>\n",
       "    </tr>\n",
       "    <tr>\n",
       "      <th>57</th>\n",
       "      <td>2019-08-27</td>\n",
       "      <td>B</td>\n",
       "      <td>720</td>\n",
       "    </tr>\n",
       "    <tr>\n",
       "      <th>58</th>\n",
       "      <td>2019-08-28</td>\n",
       "      <td>B</td>\n",
       "      <td>654</td>\n",
       "    </tr>\n",
       "    <tr>\n",
       "      <th>59</th>\n",
       "      <td>2019-08-29</td>\n",
       "      <td>B</td>\n",
       "      <td>531</td>\n",
       "    </tr>\n",
       "    <tr>\n",
       "      <th>60</th>\n",
       "      <td>2019-08-30</td>\n",
       "      <td>B</td>\n",
       "      <td>490</td>\n",
       "    </tr>\n",
       "    <tr>\n",
       "      <th>61</th>\n",
       "      <td>2019-08-31</td>\n",
       "      <td>B</td>\n",
       "      <td>718</td>\n",
       "    </tr>\n",
       "  </tbody>\n",
       "</table>\n",
       "<p>62 rows × 3 columns</p>\n",
       "</div>"
      ],
      "text/plain": [
       "          date group  visitors\n",
       "0   2019-08-01     A       719\n",
       "1   2019-08-02     A       619\n",
       "2   2019-08-03     A       507\n",
       "3   2019-08-04     A       717\n",
       "4   2019-08-05     A       756\n",
       "..         ...   ...       ...\n",
       "57  2019-08-27     B       720\n",
       "58  2019-08-28     B       654\n",
       "59  2019-08-29     B       531\n",
       "60  2019-08-30     B       490\n",
       "61  2019-08-31     B       718\n",
       "\n",
       "[62 rows x 3 columns]"
      ]
     },
     "execution_count": 58,
     "metadata": {},
     "output_type": "execute_result"
    }
   ],
   "source": [
    "visitors = pd.read_csv('visitors.csv')\n",
    "\n",
    "visitors"
   ]
  },
  {
   "cell_type": "markdown",
   "metadata": {},
   "source": [
    "Приведем названия к нижнему регистру"
   ]
  },
  {
   "cell_type": "code",
   "execution_count": 59,
   "metadata": {},
   "outputs": [
    {
     "name": "stdout",
     "output_type": "stream",
     "text": [
      "Index(['hypothesis', 'reach', 'impact', 'confidence', 'efforts'], dtype='object') Index(['transactionid', 'visitorid', 'date', 'revenue', 'group'], dtype='object')\n"
     ]
    }
   ],
   "source": [
    "data.columns = data.columns.str.lower()\n",
    "orders.columns = orders.columns.str.lower()\n",
    "print(data.columns, orders.columns)"
   ]
  },
  {
   "cell_type": "code",
   "execution_count": 60,
   "metadata": {},
   "outputs": [
    {
     "name": "stdout",
     "output_type": "stream",
     "text": [
      "<class 'pandas.core.frame.DataFrame'>\n",
      "RangeIndex: 9 entries, 0 to 8\n",
      "Data columns (total 5 columns):\n",
      " #   Column      Non-Null Count  Dtype \n",
      "---  ------      --------------  ----- \n",
      " 0   hypothesis  9 non-null      object\n",
      " 1   reach       9 non-null      int64 \n",
      " 2   impact      9 non-null      int64 \n",
      " 3   confidence  9 non-null      int64 \n",
      " 4   efforts     9 non-null      int64 \n",
      "dtypes: int64(4), object(1)\n",
      "memory usage: 488.0+ bytes\n"
     ]
    }
   ],
   "source": [
    "data.info()"
   ]
  },
  {
   "cell_type": "code",
   "execution_count": 61,
   "metadata": {},
   "outputs": [
    {
     "name": "stdout",
     "output_type": "stream",
     "text": [
      "<class 'pandas.core.frame.DataFrame'>\n",
      "RangeIndex: 1197 entries, 0 to 1196\n",
      "Data columns (total 5 columns):\n",
      " #   Column         Non-Null Count  Dtype \n",
      "---  ------         --------------  ----- \n",
      " 0   transactionid  1197 non-null   int64 \n",
      " 1   visitorid      1197 non-null   int64 \n",
      " 2   date           1197 non-null   object\n",
      " 3   revenue        1197 non-null   int64 \n",
      " 4   group          1197 non-null   object\n",
      "dtypes: int64(3), object(2)\n",
      "memory usage: 46.9+ KB\n"
     ]
    }
   ],
   "source": [
    "orders.info()"
   ]
  },
  {
   "cell_type": "code",
   "execution_count": 62,
   "metadata": {},
   "outputs": [
    {
     "name": "stdout",
     "output_type": "stream",
     "text": [
      "<class 'pandas.core.frame.DataFrame'>\n",
      "RangeIndex: 62 entries, 0 to 61\n",
      "Data columns (total 3 columns):\n",
      " #   Column    Non-Null Count  Dtype \n",
      "---  ------    --------------  ----- \n",
      " 0   date      62 non-null     object\n",
      " 1   group     62 non-null     object\n",
      " 2   visitors  62 non-null     int64 \n",
      "dtypes: int64(1), object(2)\n",
      "memory usage: 1.6+ KB\n"
     ]
    }
   ],
   "source": [
    "visitors.info()"
   ]
  },
  {
   "cell_type": "code",
   "execution_count": 63,
   "metadata": {},
   "outputs": [
    {
     "name": "stdout",
     "output_type": "stream",
     "text": [
      "<class 'pandas.core.frame.DataFrame'>\n",
      "RangeIndex: 1197 entries, 0 to 1196\n",
      "Data columns (total 5 columns):\n",
      " #   Column         Non-Null Count  Dtype         \n",
      "---  ------         --------------  -----         \n",
      " 0   transactionid  1197 non-null   int64         \n",
      " 1   visitorid      1197 non-null   int64         \n",
      " 2   date           1197 non-null   datetime64[ns]\n",
      " 3   revenue        1197 non-null   int64         \n",
      " 4   group          1197 non-null   object        \n",
      "dtypes: datetime64[ns](1), int64(3), object(1)\n",
      "memory usage: 46.9+ KB\n",
      "<class 'pandas.core.frame.DataFrame'>\n",
      "RangeIndex: 62 entries, 0 to 61\n",
      "Data columns (total 3 columns):\n",
      " #   Column    Non-Null Count  Dtype         \n",
      "---  ------    --------------  -----         \n",
      " 0   date      62 non-null     datetime64[ns]\n",
      " 1   group     62 non-null     object        \n",
      " 2   visitors  62 non-null     int64         \n",
      "dtypes: datetime64[ns](1), int64(1), object(1)\n",
      "memory usage: 1.6+ KB\n"
     ]
    }
   ],
   "source": [
    "# преобразование данных о времени\n",
    "orders['date'] = pd.to_datetime(orders['date'])\n",
    "visitors['date'] = pd.to_datetime(visitors['date'])\n",
    "\n",
    "orders.info()\n",
    "visitors.info()\n"
   ]
  },
  {
   "cell_type": "markdown",
   "metadata": {},
   "source": [
    "Выведем количество пропущенных значений для каждого столбца"
   ]
  },
  {
   "cell_type": "code",
   "execution_count": 64,
   "metadata": {},
   "outputs": [
    {
     "data": {
      "text/plain": [
       "hypothesis    0\n",
       "reach         0\n",
       "impact        0\n",
       "confidence    0\n",
       "efforts       0\n",
       "dtype: int64"
      ]
     },
     "execution_count": 64,
     "metadata": {},
     "output_type": "execute_result"
    }
   ],
   "source": [
    "data.isna().sum()"
   ]
  },
  {
   "cell_type": "code",
   "execution_count": 65,
   "metadata": {},
   "outputs": [
    {
     "data": {
      "text/plain": [
       "transactionid    0\n",
       "visitorid        0\n",
       "date             0\n",
       "revenue          0\n",
       "group            0\n",
       "dtype: int64"
      ]
     },
     "execution_count": 65,
     "metadata": {},
     "output_type": "execute_result"
    }
   ],
   "source": [
    "orders.isna().sum()"
   ]
  },
  {
   "cell_type": "code",
   "execution_count": 66,
   "metadata": {},
   "outputs": [
    {
     "data": {
      "text/plain": [
       "date        0\n",
       "group       0\n",
       "visitors    0\n",
       "dtype: int64"
      ]
     },
     "execution_count": 66,
     "metadata": {},
     "output_type": "execute_result"
    }
   ],
   "source": [
    "visitors.isna().sum()"
   ]
  },
  {
   "cell_type": "markdown",
   "metadata": {},
   "source": [
    "Пропусков нет.Проверим на явные пропуски."
   ]
  },
  {
   "cell_type": "code",
   "execution_count": 67,
   "metadata": {},
   "outputs": [
    {
     "data": {
      "text/plain": [
       "0"
      ]
     },
     "execution_count": 67,
     "metadata": {},
     "output_type": "execute_result"
    }
   ],
   "source": [
    "data.duplicated().sum()"
   ]
  },
  {
   "cell_type": "code",
   "execution_count": 68,
   "metadata": {},
   "outputs": [
    {
     "data": {
      "text/plain": [
       "0"
      ]
     },
     "execution_count": 68,
     "metadata": {},
     "output_type": "execute_result"
    }
   ],
   "source": [
    "orders.duplicated().sum()"
   ]
  },
  {
   "cell_type": "code",
   "execution_count": 69,
   "metadata": {},
   "outputs": [
    {
     "data": {
      "text/plain": [
       "0"
      ]
     },
     "execution_count": 69,
     "metadata": {},
     "output_type": "execute_result"
    }
   ],
   "source": [
    "visitors.duplicated().sum()"
   ]
  },
  {
   "cell_type": "markdown",
   "metadata": {},
   "source": [
    "Проверим количество групп в A/B тесте."
   ]
  },
  {
   "cell_type": "code",
   "execution_count": 70,
   "metadata": {},
   "outputs": [
    {
     "data": {
      "text/plain": [
       "2"
      ]
     },
     "execution_count": 70,
     "metadata": {},
     "output_type": "execute_result"
    }
   ],
   "source": [
    "orders['group'].nunique()"
   ]
  },
  {
   "cell_type": "code",
   "execution_count": 71,
   "metadata": {},
   "outputs": [
    {
     "data": {
      "text/plain": [
       "2"
      ]
     },
     "execution_count": 71,
     "metadata": {},
     "output_type": "execute_result"
    }
   ],
   "source": [
    "visitors['group'].nunique()"
   ]
  },
  {
   "cell_type": "markdown",
   "metadata": {},
   "source": [
    "Всего 2 группы в A/B тесте. Узнаем даты начала и окончания теста.\n"
   ]
  },
  {
   "cell_type": "code",
   "execution_count": 72,
   "metadata": {},
   "outputs": [
    {
     "data": {
      "text/plain": [
       "Timestamp('2019-08-31 00:00:00')"
      ]
     },
     "execution_count": 72,
     "metadata": {},
     "output_type": "execute_result"
    }
   ],
   "source": [
    "orders['date'].max()"
   ]
  },
  {
   "cell_type": "code",
   "execution_count": 73,
   "metadata": {},
   "outputs": [
    {
     "data": {
      "text/plain": [
       "Timestamp('2019-08-01 00:00:00')"
      ]
     },
     "execution_count": 73,
     "metadata": {},
     "output_type": "execute_result"
    }
   ],
   "source": [
    "orders['date'].min()"
   ]
  },
  {
   "cell_type": "code",
   "execution_count": 74,
   "metadata": {},
   "outputs": [
    {
     "data": {
      "text/plain": [
       "Timestamp('2019-08-31 00:00:00')"
      ]
     },
     "execution_count": 74,
     "metadata": {},
     "output_type": "execute_result"
    }
   ],
   "source": [
    "visitors['date'].max()"
   ]
  },
  {
   "cell_type": "code",
   "execution_count": 75,
   "metadata": {
    "scrolled": true
   },
   "outputs": [
    {
     "data": {
      "text/plain": [
       "Timestamp('2019-08-01 00:00:00')"
      ]
     },
     "execution_count": 75,
     "metadata": {},
     "output_type": "execute_result"
    }
   ],
   "source": [
    "visitors['date'].min()"
   ]
  },
  {
   "cell_type": "markdown",
   "metadata": {},
   "source": [
    "Дата начала проведения теста 01/08/2019, дата окончания проведения теста  31/08/2019."
   ]
  },
  {
   "cell_type": "markdown",
   "metadata": {},
   "source": [
    "Определим количество пользователей в каждой группе - по таблице с заказами."
   ]
  },
  {
   "cell_type": "code",
   "execution_count": 76,
   "metadata": {},
   "outputs": [
    {
     "data": {
      "text/plain": [
       "group\n",
       "A    503\n",
       "B    586\n",
       "Name: visitorid, dtype: int64"
      ]
     },
     "execution_count": 76,
     "metadata": {},
     "output_type": "execute_result"
    }
   ],
   "source": [
    "orders.groupby('group')['visitorid'].nunique()"
   ]
  },
  {
   "cell_type": "markdown",
   "metadata": {},
   "source": [
    " В группе A- 503 пользователя, в группе B - 586."
   ]
  },
  {
   "cell_type": "markdown",
   "metadata": {},
   "source": [
    "Узнаем вероятность попадания пользователей в обе группы - по таблице с заказами."
   ]
  },
  {
   "cell_type": "code",
   "execution_count": 77,
   "metadata": {},
   "outputs": [
    {
     "data": {
      "text/plain": [
       "0.05625606207565471"
      ]
     },
     "execution_count": 77,
     "metadata": {},
     "output_type": "execute_result"
    }
   ],
   "source": [
    "useroders = orders.groupby('visitorid')['group'].nunique()\n",
    "useroders.where(useroders!=1).count()\n",
    "len(useroders.where(useroders!=1))\n",
    "ABgroupusers=useroders.where(useroders!=1).count()/len(useroders.where(useroders!=1))\n",
    "ABgroupusers"
   ]
  },
  {
   "cell_type": "markdown",
   "metadata": {},
   "source": [
    "Вероятность попадания в обе группы 5%"
   ]
  },
  {
   "cell_type": "markdown",
   "metadata": {},
   "source": [
    "## Приоритизация гипотез.\n",
    "\n",
    "Применим фреймворк ICE для приоритизации гипотез. Отсортируем их по убыванию приоритета.\n",
    "Применим фреймворк RICE для приоритизации гипотез. Отсортируем их по убыванию приоритета.\n",
    "Укажием, как изменилась приоритизация гипотез при применении RICE вместо ICE. Объясним, почему так произошло."
   ]
  },
  {
   "cell_type": "code",
   "execution_count": 78,
   "metadata": {},
   "outputs": [
    {
     "name": "stdout",
     "output_type": "stream",
     "text": [
      "                                                                                                     hypothesis  \\\n",
      "8                                                       Запустить акцию, дающую скидку на товар в день рождения   \n",
      "0            Добавить два новых канала привлечения трафика, что позволит привлекать на 30% больше пользователей   \n",
      "7              Добавить форму подписки на все основные страницы, чтобы собрать базу клиентов для email-рассылок   \n",
      "6          Показать на главной странице баннеры с актуальными акциями и распродажами, чтобы увеличить конверсию   \n",
      "2  Добавить блоки рекомендаций товаров на сайт интернет магазина, чтобы повысить конверсию и средний чек заказа   \n",
      "1                                     Запустить собственную службу доставки, что сократит срок доставки заказов   \n",
      "5                      Добавить страницу отзывов клиентов о магазине, что позволит увеличить количество заказов   \n",
      "3           Изменить структура категорий, что увеличит конверсию, т.к. пользователи быстрее найдут нужный товар   \n",
      "4                              Изменить цвет фона главной страницы, чтобы увеличить вовлеченность пользователей   \n",
      "\n",
      "     ICE  \n",
      "8  16.20  \n",
      "0  13.33  \n",
      "7  11.20  \n",
      "6   8.00  \n",
      "2   7.00  \n",
      "1   2.00  \n",
      "5   1.33  \n",
      "3   1.12  \n",
      "4   1.00  \n"
     ]
    }
   ],
   "source": [
    "data['ICE']=round((data['impact']*data['confidence'])/data['efforts'], 2)\n",
    "\n",
    "print(data[['hypothesis', 'ICE']].sort_values(by='ICE', ascending=False))"
   ]
  },
  {
   "cell_type": "markdown",
   "metadata": {},
   "source": [
    "Наиболее персперктивные гипотезы:\n",
    "\n",
    "* 8 - Запустить акцию, дающую скидку на товар в день,\n",
    "* 0 - Добавить два новых канала привлечения трафика, \n",
    "* 7 - Добавить форму подписки на все основные страницы, \n",
    "* 6 - Показать на главной странице баннеры, \n",
    "* 2 - Добавить блоки рекомендаций товаров на сайт."
   ]
  },
  {
   "cell_type": "code",
   "execution_count": 79,
   "metadata": {},
   "outputs": [
    {
     "name": "stdout",
     "output_type": "stream",
     "text": [
      "                                                                                                     hypothesis  \\\n",
      "7              Добавить форму подписки на все основные страницы, чтобы собрать базу клиентов для email-рассылок   \n",
      "2  Добавить блоки рекомендаций товаров на сайт интернет магазина, чтобы повысить конверсию и средний чек заказа   \n",
      "0            Добавить два новых канала привлечения трафика, что позволит привлекать на 30% больше пользователей   \n",
      "6          Показать на главной странице баннеры с актуальными акциями и распродажами, чтобы увеличить конверсию   \n",
      "8                                                       Запустить акцию, дающую скидку на товар в день рождения   \n",
      "3           Изменить структура категорий, что увеличит конверсию, т.к. пользователи быстрее найдут нужный товар   \n",
      "1                                     Запустить собственную службу доставки, что сократит срок доставки заказов   \n",
      "5                      Добавить страницу отзывов клиентов о магазине, что позволит увеличить количество заказов   \n",
      "4                              Изменить цвет фона главной страницы, чтобы увеличить вовлеченность пользователей   \n",
      "\n",
      "    RICE  \n",
      "7  112.0  \n",
      "2   56.0  \n",
      "0   40.0  \n",
      "6   40.0  \n",
      "8   16.2  \n",
      "3    9.0  \n",
      "1    4.0  \n",
      "5    4.0  \n",
      "4    3.0  \n"
     ]
    }
   ],
   "source": [
    "data['RICE']=(data['reach']*data['impact']*data['confidence'])/data['efforts']\n",
    "\n",
    "print(data[['hypothesis', 'RICE']].sort_values(by='RICE', ascending=False))"
   ]
  },
  {
   "cell_type": "markdown",
   "metadata": {},
   "source": [
    "Наиболее персперктивные гипотезы:\n",
    "\n",
    "* 7 - Добавить форму подписки на все основные страницы,\n",
    "* 2 - Добавить блоки рекомендаций товаров на сайт,\n",
    "* 0 - Добавить два новых канала привлечения трафика,\n",
    "* 6 - Показать на главной странице баннеры,\n",
    "* 8 - Запустить акцию, дающую скидку на товар в день\n"
   ]
  },
  {
   "cell_type": "code",
   "execution_count": 80,
   "metadata": {},
   "outputs": [
    {
     "name": "stdout",
     "output_type": "stream",
     "text": [
      "                                                                                                     hypothesis  \\\n",
      "0            Добавить два новых канала привлечения трафика, что позволит привлекать на 30% больше пользователей   \n",
      "1                                     Запустить собственную службу доставки, что сократит срок доставки заказов   \n",
      "2  Добавить блоки рекомендаций товаров на сайт интернет магазина, чтобы повысить конверсию и средний чек заказа   \n",
      "3           Изменить структура категорий, что увеличит конверсию, т.к. пользователи быстрее найдут нужный товар   \n",
      "4                              Изменить цвет фона главной страницы, чтобы увеличить вовлеченность пользователей   \n",
      "5                      Добавить страницу отзывов клиентов о магазине, что позволит увеличить количество заказов   \n",
      "6          Показать на главной странице баннеры с актуальными акциями и распродажами, чтобы увеличить конверсию   \n",
      "7              Добавить форму подписки на все основные страницы, чтобы собрать базу клиентов для email-рассылок   \n",
      "8                                                       Запустить акцию, дающую скидку на товар в день рождения   \n",
      "\n",
      "   reach  impact  confidence  efforts    ICE   RICE  \n",
      "0      3      10           8        6  13.33   40.0  \n",
      "1      2       5           4       10   2.00    4.0  \n",
      "2      8       3           7        3   7.00   56.0  \n",
      "3      8       3           3        8   1.12    9.0  \n",
      "4      3       1           1        1   1.00    3.0  \n",
      "5      3       2           2        3   1.33    4.0  \n",
      "6      5       3           8        3   8.00   40.0  \n",
      "7     10       7           8        5  11.20  112.0  \n",
      "8      1       9           9        5  16.20   16.2  \n"
     ]
    }
   ],
   "source": [
    "print(data)"
   ]
  },
  {
   "cell_type": "markdown",
   "metadata": {},
   "source": [
    "Лидирующие гипотезы при засчете ICE и RICE, но при расчете RICE на первое место попала 7 гипотеза(Добавить форму подписки на все основные страницы) вместо 8 гипотезы(Запустить акцию, дающую скидку на товар в день). Это произошло, потому что reach у 7 гипотезы равен 10, что гораздо больше чем у остальных гипотез. \n",
    "\n",
    "По этой же присине вырвалась вперед 2 гипотеза( Добавить блоки рекомендаций товаров на сайт) у RICE, вместо 0(Добавить два новых канала привлечения трафика)."
   ]
  },
  {
   "cell_type": "markdown",
   "metadata": {},
   "source": [
    "## Анализ A/B-теста"
   ]
  },
  {
   "cell_type": "markdown",
   "metadata": {},
   "source": [
    "### Построим график кумулятивной выручки по группам. Сделаем выводы и предположения."
   ]
  },
  {
   "cell_type": "code",
   "execution_count": 81,
   "metadata": {},
   "outputs": [],
   "source": [
    "# создаем массив уникальных пар значений дат и групп теста\n",
    "datesGroups = orders[['date','group']].drop_duplicates()"
   ]
  },
  {
   "cell_type": "code",
   "execution_count": 82,
   "metadata": {},
   "outputs": [],
   "source": [
    "ordersAggregated = datesGroups.apply(lambda x: orders[np.logical_and(orders['date'] <= x['date'], orders['group'] == x['group'])]\\\n",
    ".agg({'date' : 'max', 'group' : 'max', 'visitorid' : 'nunique', 'transactionid' : 'nunique', 'revenue' : 'sum'}), axis=1).sort_values(by=['date','group'])"
   ]
  },
  {
   "cell_type": "code",
   "execution_count": 83,
   "metadata": {},
   "outputs": [],
   "source": [
    "visitorsAggregated = datesGroups.apply(lambda x: visitors[np.logical_and(visitors['date'] <= x['date'], visitors['group'] == x['group'])].agg({'date' : 'max', 'group' : 'max', 'visitors' : 'sum'}), axis=1).sort_values(by=['date','group'])"
   ]
  },
  {
   "cell_type": "code",
   "execution_count": 84,
   "metadata": {
    "scrolled": true
   },
   "outputs": [
    {
     "name": "stdout",
     "output_type": "stream",
     "text": [
      "        date group  orders  buyers  revenue  visitors\n",
      "0 2019-08-01     A      20      24   148579       719\n",
      "1 2019-08-01     B      20      21   101217       713\n",
      "2 2019-08-02     A      38      44   242401      1338\n",
      "3 2019-08-02     B      43      45   266748      1294\n",
      "4 2019-08-03     A      62      68   354874      1845\n"
     ]
    }
   ],
   "source": [
    "# создаем массив уникальных пар значений дат и групп теста\n",
    "datesGroups = orders[['date','group']].drop_duplicates()\n",
    "\n",
    "# получаем агрегированные кумулятивные по дням данные о заказах \n",
    "ordersAggregated = datesGroups.apply(lambda x: orders[np.logical_and(orders['date'] <= x['date'], orders['group'] == x['group'])].agg({'date' : 'max', 'group' : 'max', 'visitorid' : 'nunique', 'transactionid' : 'nunique', 'revenue' : 'sum'}), axis=1).sort_values(by=['date','group'])\n",
    "\n",
    "# получаем агрегированные кумулятивные по дням данные о посетителях интернет-магазина \n",
    "visitorsAggregated = datesGroups.apply(lambda x: visitors[np.logical_and(visitors['date'] <= x['date'], visitors['group'] == x['group'])].agg({'date' : 'max', 'group' : 'max', 'visitors' : 'sum'}), axis=1).sort_values(by=['date','group'])\n",
    "\n",
    "# объединяем кумулятивные данные в одной таблице и присваиваем ее столбцам понятные названия\n",
    "cumulativeData = ordersAggregated.merge(visitorsAggregated, left_on=['date', 'group'], right_on=['date', 'group'])\n",
    "cumulativeData.columns = ['date', 'group', 'orders', 'buyers', 'revenue', 'visitors']\n",
    "\n",
    "print(cumulativeData.head(5))"
   ]
  },
  {
   "cell_type": "markdown",
   "metadata": {},
   "source": [
    "Проверим сходятся ли дата начала и окончания эксперимента в cumulativeData с датами, которые мы определили в начале исследования:01/08/2019, 31/08/2019."
   ]
  },
  {
   "cell_type": "code",
   "execution_count": 85,
   "metadata": {},
   "outputs": [
    {
     "data": {
      "text/plain": [
       "Timestamp('2019-08-31 00:00:00')"
      ]
     },
     "execution_count": 85,
     "metadata": {},
     "output_type": "execute_result"
    }
   ],
   "source": [
    "cumulativeData['date'].max()"
   ]
  },
  {
   "cell_type": "code",
   "execution_count": 86,
   "metadata": {},
   "outputs": [
    {
     "data": {
      "text/plain": [
       "Timestamp('2019-08-01 00:00:00')"
      ]
     },
     "execution_count": 86,
     "metadata": {},
     "output_type": "execute_result"
    }
   ],
   "source": [
    "cumulativeData['date'].min()"
   ]
  },
  {
   "cell_type": "markdown",
   "metadata": {},
   "source": [
    "Минимальная и максимальная даты в этом датафрейме cumulativeData с минимальной и максимальной датой в исходных данных."
   ]
  },
  {
   "cell_type": "code",
   "execution_count": 87,
   "metadata": {},
   "outputs": [
    {
     "name": "stderr",
     "output_type": "stream",
     "text": [
      "E:\\Apps\\anacondas\\lib\\site-packages\\matplotlib\\cbook\\__init__.py:1402: FutureWarning: Support for multi-dimensional indexing (e.g. `obj[:, None]`) is deprecated and will be removed in a future version.  Convert to a numpy array before indexing instead.\n",
      "  x[:, None]\n",
      "E:\\Apps\\anacondas\\lib\\site-packages\\matplotlib\\cbook\\__init__.py:1402: FutureWarning: Support for multi-dimensional indexing (e.g. `obj[:, None]`) is deprecated and will be removed in a future version.  Convert to a numpy array before indexing instead.\n",
      "  x[:, None]\n",
      "E:\\Apps\\anacondas\\lib\\site-packages\\matplotlib\\axes\\_base.py:276: FutureWarning: Support for multi-dimensional indexing (e.g. `obj[:, None]`) is deprecated and will be removed in a future version.  Convert to a numpy array before indexing instead.\n",
      "  x = x[:, np.newaxis]\n",
      "E:\\Apps\\anacondas\\lib\\site-packages\\matplotlib\\axes\\_base.py:278: FutureWarning: Support for multi-dimensional indexing (e.g. `obj[:, None]`) is deprecated and will be removed in a future version.  Convert to a numpy array before indexing instead.\n",
      "  y = y[:, np.newaxis]\n",
      "E:\\Apps\\anacondas\\lib\\site-packages\\matplotlib\\cbook\\__init__.py:1402: FutureWarning: Support for multi-dimensional indexing (e.g. `obj[:, None]`) is deprecated and will be removed in a future version.  Convert to a numpy array before indexing instead.\n",
      "  x[:, None]\n",
      "E:\\Apps\\anacondas\\lib\\site-packages\\matplotlib\\axes\\_base.py:276: FutureWarning: Support for multi-dimensional indexing (e.g. `obj[:, None]`) is deprecated and will be removed in a future version.  Convert to a numpy array before indexing instead.\n",
      "  x = x[:, np.newaxis]\n",
      "E:\\Apps\\anacondas\\lib\\site-packages\\matplotlib\\axes\\_base.py:278: FutureWarning: Support for multi-dimensional indexing (e.g. `obj[:, None]`) is deprecated and will be removed in a future version.  Convert to a numpy array before indexing instead.\n",
      "  y = y[:, np.newaxis]\n"
     ]
    },
    {
     "data": {
      "image/png": "[encoded data removed]",
      "text/plain": [
       "<Figure size 432x288 with 1 Axes>"
      ]
     },
     "metadata": {
      "needs_background": "light"
     },
     "output_type": "display_data"
    }
   ],
   "source": [
    "\n",
    "\n",
    "# датафрейм с кумулятивным количеством заказов и кумулятивной выручкой по дням в группе А\n",
    "cumulativeRevenueA = cumulativeData[cumulativeData['group']=='A'][['date','revenue', 'orders']]\n",
    "\n",
    "# датафрейм с кумулятивным количеством заказов и кумулятивной выручкой по дням в группе B\n",
    "cumulativeRevenueB = cumulativeData[cumulativeData['group']=='B'][['date','revenue', 'orders']]\n",
    "\n",
    "# Строим график выручки группы А\n",
    "plt.plot(cumulativeRevenueA['date'], cumulativeRevenueA['revenue'], label='A')\n",
    "\n",
    "# Строим график выручки группы B\n",
    "plt.plot(cumulativeRevenueB['date'], cumulativeRevenueB['revenue'], label='B')\n",
    "\n",
    "plt.legend()\n",
    "plt.xticks(rotation=90)\n",
    "plt.title(\"График выручки группы А и В\")\n",
    "plt.xlabel(\"Дата\")\n",
    "plt.ylabel(\"Выручка в рублях(*10^6)\")\n",
    "plt.show()"
   ]
  },
  {
   "cell_type": "markdown",
   "metadata": {},
   "source": [
    "Вывод: выручка почти равномерно увеличивается в течение всего теста. Хороший знак.\n",
    "Однако график выручки B в одной точке резко растет. Это может сигнализировать о всплесках числа заказов, либо о появлении очень дорогих заказов в выборке. Выручка теста B значительно выше теста A."
   ]
  },
  {
   "cell_type": "markdown",
   "metadata": {},
   "source": [
    "### Построем график кумулятивного среднего чека по группам. Сделаем выводы и предположения."
   ]
  },
  {
   "cell_type": "code",
   "execution_count": 88,
   "metadata": {},
   "outputs": [
    {
     "name": "stderr",
     "output_type": "stream",
     "text": [
      "E:\\Apps\\anacondas\\lib\\site-packages\\matplotlib\\cbook\\__init__.py:1402: FutureWarning: Support for multi-dimensional indexing (e.g. `obj[:, None]`) is deprecated and will be removed in a future version.  Convert to a numpy array before indexing instead.\n",
      "  x[:, None]\n",
      "E:\\Apps\\anacondas\\lib\\site-packages\\matplotlib\\axes\\_base.py:276: FutureWarning: Support for multi-dimensional indexing (e.g. `obj[:, None]`) is deprecated and will be removed in a future version.  Convert to a numpy array before indexing instead.\n",
      "  x = x[:, np.newaxis]\n",
      "E:\\Apps\\anacondas\\lib\\site-packages\\matplotlib\\axes\\_base.py:278: FutureWarning: Support for multi-dimensional indexing (e.g. `obj[:, None]`) is deprecated and will be removed in a future version.  Convert to a numpy array before indexing instead.\n",
      "  y = y[:, np.newaxis]\n",
      "E:\\Apps\\anacondas\\lib\\site-packages\\matplotlib\\cbook\\__init__.py:1402: FutureWarning: Support for multi-dimensional indexing (e.g. `obj[:, None]`) is deprecated and will be removed in a future version.  Convert to a numpy array before indexing instead.\n",
      "  x[:, None]\n",
      "E:\\Apps\\anacondas\\lib\\site-packages\\matplotlib\\axes\\_base.py:276: FutureWarning: Support for multi-dimensional indexing (e.g. `obj[:, None]`) is deprecated and will be removed in a future version.  Convert to a numpy array before indexing instead.\n",
      "  x = x[:, np.newaxis]\n",
      "E:\\Apps\\anacondas\\lib\\site-packages\\matplotlib\\axes\\_base.py:278: FutureWarning: Support for multi-dimensional indexing (e.g. `obj[:, None]`) is deprecated and will be removed in a future version.  Convert to a numpy array before indexing instead.\n",
      "  y = y[:, np.newaxis]\n"
     ]
    },
    {
     "data": {
      "image/png": "[encoded data removed]",
      "text/plain": [
       "<Figure size 432x288 with 1 Axes>"
      ]
     },
     "metadata": {
      "needs_background": "light"
     },
     "output_type": "display_data"
    }
   ],
   "source": [
    "plt.plot(cumulativeRevenueA['date'], cumulativeRevenueA['revenue']/cumulativeRevenueA['orders'], label='A')\n",
    "plt.plot(cumulativeRevenueB['date'], cumulativeRevenueB['revenue']/cumulativeRevenueB['orders'], label='B')\n",
    "plt.legend()\n",
    "plt.xticks(rotation=90)\n",
    "plt.title(\"График кумулятивного среднего чека по группам\")\n",
    "plt.xlabel(\"Дата\")\n",
    "plt.ylabel(\"Выручка в рублях\")\n",
    "plt.show()"
   ]
  },
  {
   "cell_type": "markdown",
   "metadata": {},
   "source": [
    "Средний чек тоже становится равномерным ближе к концу теста: установился для группы A и продолжает падать для группы B. Возможно, в группу B в первой половине теста попали крупные заказы (резкий всплеск на графике). Тогда ей нужно больше данных, чтобы прийти к реальному среднему чеку и установиться на его уровне."
   ]
  },
  {
   "cell_type": "markdown",
   "metadata": {},
   "source": [
    "### Построем график относительного изменения кумулятивного среднего чека группы B к группе A. Сделаем выводы и предположения."
   ]
  },
  {
   "cell_type": "code",
   "execution_count": 89,
   "metadata": {},
   "outputs": [
    {
     "name": "stderr",
     "output_type": "stream",
     "text": [
      "E:\\Apps\\anacondas\\lib\\site-packages\\matplotlib\\cbook\\__init__.py:1402: FutureWarning: Support for multi-dimensional indexing (e.g. `obj[:, None]`) is deprecated and will be removed in a future version.  Convert to a numpy array before indexing instead.\n",
      "  x[:, None]\n",
      "E:\\Apps\\anacondas\\lib\\site-packages\\matplotlib\\axes\\_base.py:276: FutureWarning: Support for multi-dimensional indexing (e.g. `obj[:, None]`) is deprecated and will be removed in a future version.  Convert to a numpy array before indexing instead.\n",
      "  x = x[:, np.newaxis]\n",
      "E:\\Apps\\anacondas\\lib\\site-packages\\matplotlib\\axes\\_base.py:278: FutureWarning: Support for multi-dimensional indexing (e.g. `obj[:, None]`) is deprecated and will be removed in a future version.  Convert to a numpy array before indexing instead.\n",
      "  y = y[:, np.newaxis]\n"
     ]
    },
    {
     "data": {
      "image/png": "[encoded data removed]",
      "text/plain": [
       "<Figure size 432x288 with 1 Axes>"
      ]
     },
     "metadata": {
      "needs_background": "light"
     },
     "output_type": "display_data"
    }
   ],
   "source": [
    "# собираем данные в одном датафрейме\n",
    "mergedCumulativeRevenue = cumulativeRevenueA.merge(cumulativeRevenueB, left_on='date', right_on='date', how='left', suffixes=['A', 'B'])\n",
    "\n",
    "# cтроим отношение средних чеков\n",
    "plt.plot(mergedCumulativeRevenue['date'], (mergedCumulativeRevenue['revenueB']/mergedCumulativeRevenue['ordersB'])/(mergedCumulativeRevenue['revenueA']/mergedCumulativeRevenue['ordersA'])-1)\n",
    "\n",
    "# добавляем ось X\n",
    "plt.axhline(y=0, color='black', linestyle='--')\n",
    "plt.xticks(rotation=90)\n",
    "plt.title(\"График относительного изменения кумулятивного среднего чека группы B к группе A\")\n",
    "plt.xlabel(\"Дата\")\n",
    "plt.ylabel(\"Отношение средних чеков\")\n",
    "plt.show()\n"
   ]
  },
  {
   "cell_type": "markdown",
   "metadata": {},
   "source": [
    "В нескольких точках график различия между сегментами резко «скачет». Где-то уж точно спрятались крупные заказы и выбросы. Под конец графика группа B больше A, но идет на снижение."
   ]
  },
  {
   "cell_type": "markdown",
   "metadata": {},
   "source": [
    " ### Построем график кумулятивного среднего количества заказов на посетителя по группам. Сделаем выводы и предположения."
   ]
  },
  {
   "cell_type": "code",
   "execution_count": 90,
   "metadata": {},
   "outputs": [
    {
     "name": "stderr",
     "output_type": "stream",
     "text": [
      "E:\\Apps\\anacondas\\lib\\site-packages\\matplotlib\\cbook\\__init__.py:1402: FutureWarning: Support for multi-dimensional indexing (e.g. `obj[:, None]`) is deprecated and will be removed in a future version.  Convert to a numpy array before indexing instead.\n",
      "  x[:, None]\n",
      "E:\\Apps\\anacondas\\lib\\site-packages\\matplotlib\\axes\\_base.py:276: FutureWarning: Support for multi-dimensional indexing (e.g. `obj[:, None]`) is deprecated and will be removed in a future version.  Convert to a numpy array before indexing instead.\n",
      "  x = x[:, np.newaxis]\n",
      "E:\\Apps\\anacondas\\lib\\site-packages\\matplotlib\\axes\\_base.py:278: FutureWarning: Support for multi-dimensional indexing (e.g. `obj[:, None]`) is deprecated and will be removed in a future version.  Convert to a numpy array before indexing instead.\n",
      "  y = y[:, np.newaxis]\n",
      "E:\\Apps\\anacondas\\lib\\site-packages\\matplotlib\\cbook\\__init__.py:1402: FutureWarning: Support for multi-dimensional indexing (e.g. `obj[:, None]`) is deprecated and will be removed in a future version.  Convert to a numpy array before indexing instead.\n",
      "  x[:, None]\n",
      "E:\\Apps\\anacondas\\lib\\site-packages\\matplotlib\\axes\\_base.py:276: FutureWarning: Support for multi-dimensional indexing (e.g. `obj[:, None]`) is deprecated and will be removed in a future version.  Convert to a numpy array before indexing instead.\n",
      "  x = x[:, np.newaxis]\n",
      "E:\\Apps\\anacondas\\lib\\site-packages\\matplotlib\\axes\\_base.py:278: FutureWarning: Support for multi-dimensional indexing (e.g. `obj[:, None]`) is deprecated and will be removed in a future version.  Convert to a numpy array before indexing instead.\n",
      "  y = y[:, np.newaxis]\n"
     ]
    },
    {
     "data": {
      "image/png": "[encoded data removed]",
      "text/plain": [
       "<Figure size 432x288 with 1 Axes>"
      ]
     },
     "metadata": {
      "needs_background": "light"
     },
     "output_type": "display_data"
    }
   ],
   "source": [
    "# считаем среднее количество заказов на посетителя\n",
    "cumulativeData['conversion'] = cumulativeData['orders']/cumulativeData['visitors']\n",
    "\n",
    "# отделяем данные по группе A\n",
    "cumulativeDataA = cumulativeData[cumulativeData['group']=='A']\n",
    "\n",
    "# отделяем данные по группе B\n",
    "cumulativeDataB = cumulativeData[cumulativeData['group']=='B']\n",
    "\n",
    "# строим графики\n",
    "plt.plot(cumulativeDataA['date'], cumulativeDataA['conversion'], label='A')\n",
    "plt.plot(cumulativeDataB['date'], cumulativeDataB['conversion'], label='B')\n",
    "plt.legend()\n",
    "\n",
    "# задаем масштаб осей\n",
    "plt.axis()\n",
    "plt.xticks(rotation=90)\n",
    "plt.title(\"График кумулятивного среднего количества заказов на посетителя по группам\")\n",
    "plt.xlabel(\"Дата\")\n",
    "plt.ylabel(\"Количество заказов\")\n",
    "plt.show()\n"
   ]
  },
  {
   "cell_type": "markdown",
   "metadata": {},
   "source": [
    "Группы сначала колебались вместе, но затем у группы A среднее количество заказов вырвалось вперёд и зафиксировалось, а у группы B — просело, но тоже зафиксировалось."
   ]
  },
  {
   "cell_type": "markdown",
   "metadata": {},
   "source": [
    "### Построем график относительного изменения кумулятивного среднего количества заказов на посетителя группы B к группе A. Сделаем выводы и предположения."
   ]
  },
  {
   "cell_type": "code",
   "execution_count": 91,
   "metadata": {},
   "outputs": [
    {
     "name": "stderr",
     "output_type": "stream",
     "text": [
      "E:\\Apps\\anacondas\\lib\\site-packages\\matplotlib\\cbook\\__init__.py:1402: FutureWarning: Support for multi-dimensional indexing (e.g. `obj[:, None]`) is deprecated and will be removed in a future version.  Convert to a numpy array before indexing instead.\n",
      "  x[:, None]\n",
      "E:\\Apps\\anacondas\\lib\\site-packages\\matplotlib\\axes\\_base.py:276: FutureWarning: Support for multi-dimensional indexing (e.g. `obj[:, None]`) is deprecated and will be removed in a future version.  Convert to a numpy array before indexing instead.\n",
      "  x = x[:, np.newaxis]\n",
      "E:\\Apps\\anacondas\\lib\\site-packages\\matplotlib\\axes\\_base.py:278: FutureWarning: Support for multi-dimensional indexing (e.g. `obj[:, None]`) is deprecated and will be removed in a future version.  Convert to a numpy array before indexing instead.\n",
      "  y = y[:, np.newaxis]\n"
     ]
    },
    {
     "data": {
      "image/png": "[encoded data removed]",
      "text/plain": [
       "<Figure size 1080x720 with 1 Axes>"
      ]
     },
     "metadata": {
      "needs_background": "light"
     },
     "output_type": "display_data"
    }
   ],
   "source": [
    "mergedCumulativeConversions = cumulativeDataA[['date','conversion']].merge(cumulativeDataB[['date','conversion']], left_on='date', right_on='date', how='left', suffixes=['A', 'B'])\n",
    "\n",
    "plt.figure(figsize=(15, 10))\n",
    "plt.plot(mergedCumulativeConversions['date'], mergedCumulativeConversions['conversionB']/mergedCumulativeConversions['conversionA']-1, label=\"Относительный прирост кумулятивного среднего количества заказов на посетителя группы B относительно группы A\")\n",
    "plt.legend()\n",
    "\n",
    "plt.axhline(y=0, color='black', linestyle='--')\n",
    "plt.axhline(y=-0.1, color='grey', linestyle='--')\n",
    "plt.axis()\n",
    "plt.xticks(rotation=90)\n",
    "plt.title(\"График относительного изменения кумулятивного среднего количества заказов на посетителя группы B к группе A\")\n",
    "plt.xlabel(\"Дата\")\n",
    "plt.ylabel(\"Среднее количество заказов группы B к группе A\")\n",
    "\n",
    "plt.show()"
   ]
  },
  {
   "cell_type": "markdown",
   "metadata": {},
   "source": [
    "Группа B спачала была выше, потом просела резко, и потом стала стабильно выше. Думаю, это связано с аномальными заказами."
   ]
  },
  {
   "cell_type": "markdown",
   "metadata": {},
   "source": [
    "### Построем точечный график количества заказов по пользователям. Сделаем выводы и предположения."
   ]
  },
  {
   "cell_type": "code",
   "execution_count": 92,
   "metadata": {},
   "outputs": [
    {
     "data": {
      "image/png": "[encoded data removed]",
      "text/plain": [
       "<Figure size 432x288 with 1 Axes>"
      ]
     },
     "metadata": {
      "needs_background": "light"
     },
     "output_type": "display_data"
    }
   ],
   "source": [
    "a=orders.groupby(['visitorid', 'group'])['transactionid'].nunique().reset_index()\n",
    "plt.scatter(a[a['group']=='A'].visitorid,a[a['group']=='A'].transactionid,color='red', alpha=0.5, label='A')\n",
    "plt.scatter(a[a['group']=='B'].visitorid,a[a['group']=='B'].transactionid, color='blue', alpha=0.5, label='B')\n",
    "\n",
    "\n",
    "plt.xticks(rotation=90)\n",
    "plt.title(\"Точечный график количества заказов по группам\")\n",
    "plt.xlabel(\"Количество пользователей\")\n",
    "plt.ylabel(\"Количество заказов\")\n",
    "plt.show()\n",
    "\n",
    "\n",
    "   "
   ]
  },
  {
   "cell_type": "code",
   "execution_count": 93,
   "metadata": {},
   "outputs": [
    {
     "data": {
      "image/png": "[encoded data removed]",
      "text/plain": [
       "<Figure size 432x288 with 1 Axes>"
      ]
     },
     "metadata": {
      "needs_background": "light"
     },
     "output_type": "display_data"
    }
   ],
   "source": [
    "a=orders.groupby(['visitorid'])['transactionid'].nunique()\n",
    "plt.scatter(a.index, a)\n",
    "plt.xticks(rotation=90)\n",
    "plt.title(\"Точечный график количества заказов по пользователям\")\n",
    "plt.xlabel(\"Количество пользователей\")\n",
    "plt.ylabel(\"Количество заказов\")\n",
    "plt.show()"
   ]
  },
  {
   "cell_type": "markdown",
   "metadata": {},
   "source": [
    " Всё, как предполагалось: большинство пользователей имеют 1 заказ,есть немного , кто сделал много заказов. По графику можно выбрать границу аномальных заказов между 8 и 10. У группы B аномальное число заказов 7."
   ]
  },
  {
   "cell_type": "markdown",
   "metadata": {},
   "source": [
    "### Посчитаем 95-й и 99-й перцентили количества заказов на пользователя. Выберем границу для определения аномальных пользователей."
   ]
  },
  {
   "cell_type": "code",
   "execution_count": 94,
   "metadata": {},
   "outputs": [
    {
     "name": "stdout",
     "output_type": "stream",
     "text": [
      "[2. 4.]\n"
     ]
    }
   ],
   "source": [
    "print(np.percentile(a, [95, 99])) "
   ]
  },
  {
   "cell_type": "markdown",
   "metadata": {},
   "source": [
    "Не более 5% совершили 2 заказа и не более 99%-сдеалали 4 заказа. Граница аномальных заказов боллее 4."
   ]
  },
  {
   "cell_type": "markdown",
   "metadata": {},
   "source": [
    "### Построем точечный график стоимостей заказов. Сделаем выводы и предположения."
   ]
  },
  {
   "cell_type": "code",
   "execution_count": 95,
   "metadata": {},
   "outputs": [
    {
     "data": {
      "image/png": "[encoded data removed]",
      "text/plain": [
       "<Figure size 432x288 with 1 Axes>"
      ]
     },
     "metadata": {
      "needs_background": "light"
     },
     "output_type": "display_data"
    }
   ],
   "source": [
    "b=orders.groupby(['transactionid'])['revenue'].sum()\n",
    "plt.scatter(b.index, b)\n",
    "\n",
    "plt.title(\"Точечный график стоимостей заказов\")\n",
    "plt.xlabel(\"Количество пользователей\")\n",
    "plt.ylabel(\"Сумма заказов\")\n",
    "plt.show()"
   ]
  },
  {
   "cell_type": "markdown",
   "metadata": {},
   "source": [
    "Eсть немного дорогих заказов. По графику можно выбрать границу аномальных заказов между 200 000 и 1 3000 000 рублей."
   ]
  },
  {
   "cell_type": "markdown",
   "metadata": {},
   "source": [
    "### Посчитаем 95-й и 99-й перцентили стоимости заказов. Выберем границу для определения аномальных заказов."
   ]
  },
  {
   "cell_type": "code",
   "execution_count": 96,
   "metadata": {},
   "outputs": [
    {
     "name": "stdout",
     "output_type": "stream",
     "text": [
      "[28000.  58233.2]\n"
     ]
    }
   ],
   "source": [
    "print(np.percentile(b, [95, 99])) "
   ]
  },
  {
   "cell_type": "markdown",
   "metadata": {},
   "source": [
    "Не более 5% сделали заказ от 28 000 рублей и не более 99% закзали на 58 233,2  Граница аномальных заказов боллее 58 233,2."
   ]
  },
  {
   "cell_type": "markdown",
   "metadata": {},
   "source": [
    "### Посчитайем статистическую значимость различий в среднем количестве заказов на посетителя между группами по «сырым» данным. Сделаем выводы и предположения."
   ]
  },
  {
   "cell_type": "markdown",
   "metadata": {},
   "source": [
    "Сформулируем гипотезы. Нулевая: различий в среднем количестве заказов между группами нет. Альтернативная: различия в среднем между группами есть."
   ]
  },
  {
   "cell_type": "code",
   "execution_count": 97,
   "metadata": {},
   "outputs": [
    {
     "name": "stdout",
     "output_type": "stream",
     "text": [
      "        date  ordersPerDateA  revenuePerDateA  ordersPerDateB  \\\n",
      "0 2019-08-01              24           148579              21   \n",
      "1 2019-08-02              20            93822              24   \n",
      "2 2019-08-03              24           112473              16   \n",
      "3 2019-08-04              16            70825              17   \n",
      "4 2019-08-05              25           124218              23   \n",
      "\n",
      "   revenuePerDateB  ordersCummulativeA  revenueCummulativeA  \\\n",
      "0           101217                  24               148579   \n",
      "1           165531                  44               242401   \n",
      "2           114248                  68               354874   \n",
      "3           108571                  84               425699   \n",
      "4            92428                 109               549917   \n",
      "\n",
      "   ordersCummulativeB  revenueCummulativeB  visitorsPerDateA  \\\n",
      "0                  21               101217               719   \n",
      "1                  45               266748               619   \n",
      "2                  61               380996               507   \n",
      "3                  78               489567               717   \n",
      "4                 101               581995               756   \n",
      "\n",
      "   visitorsPerDateB  visitorsCummulativeA  visitorsCummulativeB  \n",
      "0               713                   719                   713  \n",
      "1               581                  1338                  1294  \n",
      "2               509                  1845                  1803  \n",
      "3               770                  2562                  2573  \n",
      "4               707                  3318                  3280  \n"
     ]
    }
   ],
   "source": [
    "\n",
    "visitorsADaily = visitors[visitors['group'] == 'A'][['date', 'visitors']]\n",
    "visitorsADaily.columns = ['date', 'visitorsPerDateA']\n",
    "\n",
    "visitorsACummulative = visitorsADaily.apply(\n",
    "    lambda x: visitorsADaily[visitorsADaily['date'] <= x['date']].agg(\n",
    "        {'date': 'max', 'visitorsPerDateA': 'sum'}\n",
    "    ),\n",
    "    axis=1,\n",
    ")\n",
    "visitorsACummulative.columns = ['date', 'visitorsCummulativeA']\n",
    "\n",
    "visitorsBDaily = visitors[visitors['group'] == 'B'][['date', 'visitors']]\n",
    "visitorsBDaily.columns = ['date', 'visitorsPerDateB']\n",
    "\n",
    "visitorsBCummulative = visitorsBDaily.apply(\n",
    "    lambda x: visitorsBDaily[visitorsBDaily['date'] <= x['date']].agg(\n",
    "        {'date': 'max', 'visitorsPerDateB': 'sum'}\n",
    "    ),\n",
    "    axis=1,\n",
    ")\n",
    "visitorsBCummulative.columns = ['date', 'visitorsCummulativeB']\n",
    "\n",
    "ordersADaily = (\n",
    "    orders[orders['group'] == 'A'][['date', 'transactionid', 'visitorid', 'revenue']]\n",
    "    .groupby('date', as_index=False)\n",
    "    .agg({'transactionid': pd.Series.nunique, 'revenue': 'sum'})\n",
    ")\n",
    "ordersADaily.columns = ['date', 'ordersPerDateA', 'revenuePerDateA']\n",
    "\n",
    "ordersACummulative = ordersADaily.apply(\n",
    "    lambda x: ordersADaily[ordersADaily['date'] <= x['date']].agg(\n",
    "        {'date': 'max', 'ordersPerDateA': 'sum', 'revenuePerDateA': 'sum'}\n",
    "    ),\n",
    "    axis=1,\n",
    ").sort_values(by=['date'])\n",
    "ordersACummulative.columns = [\n",
    "    'date',\n",
    "    'ordersCummulativeA',\n",
    "    'revenueCummulativeA',\n",
    "]\n",
    "\n",
    "ordersBDaily = (\n",
    "    orders[orders['group'] == 'B'][['date', 'transactionid', 'visitorid', 'revenue']]\n",
    "    .groupby('date', as_index=False)\n",
    "    .agg({'transactionid': pd.Series.nunique, 'revenue': 'sum'})\n",
    ")\n",
    "ordersBDaily.columns = ['date', 'ordersPerDateB', 'revenuePerDateB']\n",
    "\n",
    "ordersBCummulative = ordersBDaily.apply(\n",
    "    lambda x: ordersBDaily[ordersBDaily['date'] <= x['date']].agg(\n",
    "        {'date': 'max', 'ordersPerDateB': 'sum', 'revenuePerDateB': 'sum'}\n",
    "    ),\n",
    "    axis=1,\n",
    ").sort_values(by=['date'])\n",
    "ordersBCummulative.columns = [\n",
    "    'date',\n",
    "    'ordersCummulativeB',\n",
    "    'revenueCummulativeB',\n",
    "]\n",
    "\n",
    "data = (\n",
    "    ordersADaily.merge(\n",
    "        ordersBDaily, left_on='date', right_on='date', how='left'\n",
    "    )\n",
    "    .merge(ordersACummulative, left_on='date', right_on='date', how='left')\n",
    "    .merge(ordersBCummulative, left_on='date', right_on='date', how='left')\n",
    "    .merge(visitorsADaily, left_on='date', right_on='date', how='left')\n",
    "    .merge(visitorsBDaily, left_on='date', right_on='date', how='left')\n",
    "    .merge(visitorsACummulative, left_on='date', right_on='date', how='left')\n",
    "    .merge(visitorsBCummulative, left_on='date', right_on='date', how='left')\n",
    ")\n",
    "\n",
    "print(data.head(5))"
   ]
  },
  {
   "cell_type": "markdown",
   "metadata": {},
   "source": [
    "Названия столбцов данных:\n",
    "\n",
    "* date — дата;\n",
    "* ordersPerDateA — количество заказов в выбранную дату в группе A;\n",
    "* revenuePerDateA — суммарная выручка в выбранную дату в группе A;\n",
    "* ordersPerDateB — количество заказов в выбранную дату в группе B;\n",
    "* revenuePerDateB — суммарная выручка в выбранную дату в группе B;\n",
    "* ordersCummulativeA — суммарное число заказов до выбранной даты включительно в группе A;\n",
    "* revenueCummulativeA — суммарная выручка до выбранной даты включительно в группе A;\n",
    "* ordersCummulativeB — суммарное количество заказов до выбранной даты включительно в группе B;\n",
    "* revenueCummulativeB — суммарная выручка до выбранной даты включительно в группе B;\n",
    "* visitorsPerDateA — количество пользователей в выбранную дату в группе A;\n",
    "* visitorsPerDateB — количество пользователей в выбранную дату в группе B;\n",
    "* visitorsCummulativeA — количество пользователей до выбранной даты включительно в группе A;\n",
    "* visitorsCummulativeB — количество пользователей до выбранной даты включительно в группе B."
   ]
  },
  {
   "cell_type": "code",
   "execution_count": 98,
   "metadata": {},
   "outputs": [],
   "source": [
    "ordersByUsersA = (\n",
    "    orders[orders['group'] == 'A']\n",
    "    .groupby('visitorid', as_index=False)\n",
    "    .agg({'transactionid': pd.Series.nunique})\n",
    ")\n",
    "ordersByUsersA.columns = ['visitorid', 'orders']\n",
    "\n",
    "ordersByUsersB = (\n",
    "    orders[orders['group'] == 'B']\n",
    "    .groupby('visitorid', as_index=False)\n",
    "    .agg({'transactionid': pd.Series.nunique})\n",
    ")\n",
    "ordersByUsersB.columns = ['visitorid', 'orders']"
   ]
  },
  {
   "cell_type": "code",
   "execution_count": 99,
   "metadata": {},
   "outputs": [
    {
     "data": {
      "text/plain": [
       "[0      1\n",
       " 1      1\n",
       " 2      1\n",
       " 3      1\n",
       " 4      1\n",
       "       ..\n",
       " 498    1\n",
       " 499    7\n",
       " 500    1\n",
       " 501    1\n",
       " 502    1\n",
       " Name: orders, Length: 503, dtype: int64, 0        0\n",
       " 1        0\n",
       " 2        0\n",
       " 3        0\n",
       " 4        0\n",
       "         ..\n",
       " 18228    0\n",
       " 18229    0\n",
       " 18230    0\n",
       " 18231    0\n",
       " 18232    0\n",
       " Name: orders, Length: 18233, dtype: int64]"
      ]
     },
     "execution_count": 99,
     "metadata": {},
     "output_type": "execute_result"
    }
   ],
   "source": [
    "[ordersByUsersA['orders'],pd.Series(0, index=np.arange(data['visitorsPerDateA'].sum() - len(ordersByUsersA['orders'])), name='orders')]"
   ]
  },
  {
   "cell_type": "code",
   "execution_count": 100,
   "metadata": {},
   "outputs": [],
   "source": [
    "sampleA = pd.concat([ordersByUsersA['orders'],pd.Series(0, index=np.arange(data['visitorsPerDateA'].sum() - len(ordersByUsersA['orders'])), name='orders')],axis=0)\n",
    "\n",
    "sampleB = pd.concat([ordersByUsersB['orders'],pd.Series(0, index=np.arange(data['visitorsPerDateB'].sum() - len(ordersByUsersB['orders'])), name='orders')],axis=0)"
   ]
  },
  {
   "cell_type": "code",
   "execution_count": 101,
   "metadata": {},
   "outputs": [
    {
     "name": "stdout",
     "output_type": "stream",
     "text": [
      "p-value количества заказов по сырым данным - 0.017\n",
      "Отношение количества заказов В к А по сырым данным - 0.138\n"
     ]
    }
   ],
   "source": [
    "ordersByUsersA = (\n",
    "    orders[orders['group'] == 'A']\n",
    "    .groupby('visitorid', as_index=False)\n",
    "    .agg({'transactionid': pd.Series.nunique})\n",
    ")\n",
    "ordersByUsersA.columns = ['visitorid', 'orders']\n",
    "\n",
    "ordersByUsersB = (\n",
    "    orders[orders['group'] == 'B']\n",
    "    .groupby('visitorid', as_index=False)\n",
    "    .agg({'transactionid': pd.Series.nunique})\n",
    ")\n",
    "ordersByUsersB.columns = ['visitorid', 'orders']\n",
    "\n",
    "sampleA = pd.concat(\n",
    "    [\n",
    "        ordersByUsersA['orders'],\n",
    "        pd.Series(\n",
    "            0,\n",
    "            index=np.arange(\n",
    "                data['visitorsPerDateA'].sum() - len(ordersByUsersA['orders'])\n",
    "            ),\n",
    "            name='orders',\n",
    "        ),\n",
    "    ],\n",
    "    axis=0,\n",
    ")\n",
    "\n",
    "sampleB = pd.concat(\n",
    "    [\n",
    "        ordersByUsersB['orders'],\n",
    "        pd.Series(\n",
    "            0,\n",
    "            index=np.arange(\n",
    "                data['visitorsPerDateB'].sum() - len(ordersByUsersB['orders'])\n",
    "            ),\n",
    "            name='orders',\n",
    "        ),\n",
    "    ],\n",
    "    axis=0,\n",
    ")\n",
    "\n",
    "print(\"p-value количества заказов по сырым данным - {0:.3f}\".format(stats.mannwhitneyu(sampleA, sampleB)[1]))\n",
    "\n",
    "print(\"Отношение количества заказов В к А по сырым данным - {0:.3f}\".format(sampleB.mean() / sampleA.mean() - 1))\n"
   ]
  },
  {
   "cell_type": "markdown",
   "metadata": {},
   "source": [
    "Вывод: По «сырым» данным различий в среднем числе заказов групп A и B нет. \n",
    "Первое число — p-value = 0.017 меньше 0.05. Значит, нулевую гипотезу о том, что статистически значимых различий в среднем числе заказов между группами нет, отвергаем. Однако относительный проигрыш группы B равен 13.8% — второе число в выводе."
   ]
  },
  {
   "cell_type": "markdown",
   "metadata": {},
   "source": [
    "### Посчитаем статистическую значимость различий в среднем чеке заказа между группами по «сырым» данным. Сделаем выводы и предположения."
   ]
  },
  {
   "cell_type": "markdown",
   "metadata": {},
   "source": [
    " Нулевая гипотеза: различий в среднем чеке между группами нет. Альтернативная гипотеза: различия в среднем чеке между группами есть. "
   ]
  },
  {
   "cell_type": "code",
   "execution_count": 102,
   "metadata": {},
   "outputs": [
    {
     "name": "stdout",
     "output_type": "stream",
     "text": [
      "p-value выручки по сырым данным - 0.729\n",
      "Отношение выручки В к А по сырым данным - 0.259\n"
     ]
    }
   ],
   "source": [
    "print('p-value выручки по сырым данным - {0:.3f}'.format(stats.mannwhitneyu(orders[orders['group']=='A']['revenue'], orders[orders['group']=='B']['revenue'])[1]))\n",
    "print('Отношение выручки В к А по сырым данным - {0:.3f}'.format(orders[orders['group']=='B']['revenue'].mean()/orders[orders['group']=='A']['revenue'].mean()-1))"
   ]
  },
  {
   "cell_type": "markdown",
   "metadata": {},
   "source": [
    "P-value значительно больше 0.05. Значит, причин отвергать нулевую гипотезу и считать, что в среднем чеке есть различия, нет. Впрочем, средний чек группы B значительно болше среднего чека группы A."
   ]
  },
  {
   "cell_type": "markdown",
   "metadata": {},
   "source": [
    "### Посчитаем статистическую значимость различий в среднем количестве заказов на посетителя между группами по «очищенным» данным. Сделаем выводы и предположения."
   ]
  },
  {
   "cell_type": "markdown",
   "metadata": {},
   "source": [
    "Мы установили что, 95-й и 99-й перцентили средних чеков равны 28 000  58 233.2 рублям. А 95-й и 99-й перцентили количества заказов на одного пользователя равны 2 и 4 заказа на пользователя.Примем за аномальных пользователей тех, кто совершил от 2 заказов или совершил заказ дороже 28 000 рублей. Так мы уберём 5% пользователей с наибольшим числом заказов и от 1% до 5% пользователей с дорогими заказами."
   ]
  },
  {
   "cell_type": "code",
   "execution_count": 103,
   "metadata": {},
   "outputs": [
    {
     "name": "stdout",
     "output_type": "stream",
     "text": [
      "1099    148427295\n",
      "18      199603092\n",
      "928     204675465\n",
      "23      237748145\n",
      "37      249864742\n",
      "Name: visitorid, dtype: int64\n",
      "74\n"
     ]
    }
   ],
   "source": [
    "usersWithManyOrders = pd.concat(\n",
    "    [\n",
    "        ordersByUsersA[ordersByUsersA['orders'] > 2]['visitorid'],\n",
    "        ordersByUsersB[ordersByUsersB['orders'] > 2]['visitorid'],\n",
    "    ],\n",
    "    axis=0,\n",
    ")\n",
    "usersWithExpensiveOrders = orders[orders['revenue'] > 28000]['visitorid']\n",
    "abnormalUsers = (\n",
    "    pd.concat([usersWithManyOrders, usersWithExpensiveOrders], axis=0)\n",
    "    .drop_duplicates()\n",
    "    .sort_values()\n",
    ")\n",
    "print(abnormalUsers.head(5))\n",
    "print(abnormalUsers.shape[0])"
   ]
  },
  {
   "cell_type": "markdown",
   "metadata": {},
   "source": [
    "Всего 74 аномальных пользователей."
   ]
  },
  {
   "cell_type": "code",
   "execution_count": 104,
   "metadata": {},
   "outputs": [],
   "source": [
    "sampleAFiltered = pd.concat(\n",
    "    [\n",
    "        ordersByUsersA[\n",
    "            np.logical_not(ordersByUsersA['visitorid'].isin(abnormalUsers))\n",
    "        ]['orders'],\n",
    "        pd.Series(\n",
    "            0,\n",
    "            index=np.arange(\n",
    "                data['visitorsPerDateA'].sum() - len(ordersByUsersA['orders'])\n",
    "            ),\n",
    "            name='orders',\n",
    "        ),\n",
    "    ],\n",
    "    axis=0,\n",
    ")\n",
    "\n",
    "sampleBFiltered = pd.concat(\n",
    "    [\n",
    "        ordersByUsersB[\n",
    "            np.logical_not(ordersByUsersB['visitorid'].isin(abnormalUsers))\n",
    "        ]['orders'],\n",
    "        pd.Series(\n",
    "            0,\n",
    "            index=np.arange(\n",
    "                data['visitorsPerDateB'].sum() - len(ordersByUsersB['orders'])\n",
    "            ),\n",
    "            name='orders',\n",
    "        ),\n",
    "    ],\n",
    "    axis=0,\n",
    ")"
   ]
  },
  {
   "cell_type": "code",
   "execution_count": 105,
   "metadata": {},
   "outputs": [
    {
     "name": "stdout",
     "output_type": "stream",
     "text": [
      "p-value количества заказов по очищенным данным -0.013\n",
      "Отношение количества заказов В к А по очищенным данным - 0.173\n"
     ]
    }
   ],
   "source": [
    "print('p-value количества заказов по очищенным данным -{0:.3f}'.format(stats.mannwhitneyu(sampleAFiltered, sampleBFiltered)[1]))\n",
    "print('Отношение количества заказов В к А по очищенным данным - {0:.3f}'.format(sampleBFiltered.mean()/sampleAFiltered.mean()-1))"
   ]
  },
  {
   "cell_type": "markdown",
   "metadata": {},
   "source": [
    "P-value практически не изменился, он стал значительно меньше 0.05. Значит, есть причина отвергать нулевую гипотезу и считать, что в среднем чеке есть различия. Впрочем, средний чек группы B также значительно болше среднего чека группы A."
   ]
  },
  {
   "cell_type": "markdown",
   "metadata": {},
   "source": [
    "### Посчитаем статистическую значимость различий в среднем чеке заказа между группами по «очищенным» данным. Сделаем выводы и предположения."
   ]
  },
  {
   "cell_type": "code",
   "execution_count": 106,
   "metadata": {
    "scrolled": true
   },
   "outputs": [
    {
     "name": "stdout",
     "output_type": "stream",
     "text": [
      "p-value выручки по очищенным данным - 0.738\n",
      "Отношение выручки В к А по сырым данным - -0.020\n"
     ]
    }
   ],
   "source": [
    "print(\n",
    "    'p-value выручки по очищенным данным - {0:.3f}'.format(\n",
    "        stats.mannwhitneyu(\n",
    "            orders[\n",
    "                np.logical_and(\n",
    "                    orders['group'] == 'A',\n",
    "                    np.logical_not(orders['visitorid'].isin(abnormalUsers)),\n",
    "                )\n",
    "            ]['revenue'],\n",
    "            orders[\n",
    "                np.logical_and(\n",
    "                    orders['group'] == 'B',\n",
    "                    np.logical_not(orders['visitorid'].isin(abnormalUsers)),\n",
    "                )\n",
    "            ]['revenue'],\n",
    "        )[1]\n",
    "    )\n",
    ")\n",
    "\n",
    "print(\n",
    "    \"Отношение выручки В к А по сырым данным - {0:.3f}\".format(\n",
    "        orders[\n",
    "            np.logical_and(\n",
    "                orders['group'] == 'B',\n",
    "                np.logical_not(orders['visitorid'].isin(abnormalUsers)),\n",
    "            )\n",
    "        ]['revenue'].mean()\n",
    "        / orders[\n",
    "            np.logical_and(\n",
    "                orders['group'] == 'A',\n",
    "                np.logical_not(orders['visitorid'].isin(abnormalUsers)),\n",
    "            )\n",
    "        ]['revenue'].mean()\n",
    "        - 1\n",
    "    )\n",
    ")"
   ]
  },
  {
   "cell_type": "markdown",
   "metadata": {},
   "source": [
    "P-value,остался таким же, он значительно больше 0.05. Значит, причин отвергать нулевую гипотезу и считать, что в среднем чеке есть различия, нет. Впрочем, средний чек группы B изменился, он стал значительно меньше среднего чека группы A."
   ]
  },
  {
   "cell_type": "markdown",
   "metadata": {},
   "source": [
    "Примем решение по результатам теста и объясним его. Варианты решений:\n",
    "1. Остановить тест, зафиксировать победу одной из групп.\n",
    "2. Остановить тест, зафиксировать отсутствие различий между группами.\n",
    "3. Продолжить тест."
   ]
  },
  {
   "cell_type": "markdown",
   "metadata": {},
   "source": [
    "Вывод.\n",
    "\n",
    "Количество заказов по \"сырым\" данным P-value 1.7%, группа B больше на 13,8%, отвергаем нулевую гипотезу.\n",
    "Сумма заказов по \"сырым\" данным P-value 72.9%, группа B больше на 25,9%, принимаем нулевую гипотезу.\n",
    "Количество заказов по \"чистым\" данным P-value 1.3%, группа B больше на 17,3%, отвергаем нулевую гипотезу.\n",
    "Сумма заказов по \"чистым\" данным P-value 73.8%, группа B меньше на 2%, принимаем нулевую гипотезу.\n",
    "Исходя из обнаруженных фактов, тест следует остановить и признать его неуспешным. "
   ]
  }
 ],
 "metadata": {
  "ExecuteTimeLog": [
   {
    "duration": 3,
    "start_time": "2023-12-27T22:55:43.427Z"
   },
   {
    "duration": 350,
    "start_time": "2023-12-27T23:02:14.282Z"
   },
   {
    "duration": 62,
    "start_time": "2023-12-27T23:02:16.090Z"
   },
   {
    "duration": 36,
    "start_time": "2023-12-27T23:02:32.156Z"
   },
   {
    "duration": 97,
    "start_time": "2023-12-27T23:04:14.468Z"
   },
   {
    "duration": 66,
    "start_time": "2023-12-27T23:04:56.846Z"
   },
   {
    "duration": 4,
    "start_time": "2023-12-27T23:25:52.949Z"
   },
   {
    "duration": 10,
    "start_time": "2023-12-27T23:26:39.402Z"
   },
   {
    "duration": 14,
    "start_time": "2023-12-27T23:26:58.906Z"
   },
   {
    "duration": 9,
    "start_time": "2023-12-27T23:27:20.071Z"
   },
   {
    "duration": 4,
    "start_time": "2023-12-27T23:29:59.619Z"
   },
   {
    "duration": 10,
    "start_time": "2023-12-27T23:30:21.355Z"
   },
   {
    "duration": 10,
    "start_time": "2023-12-27T23:30:23.520Z"
   },
   {
    "duration": 18,
    "start_time": "2023-12-27T23:33:20.008Z"
   },
   {
    "duration": 5,
    "start_time": "2023-12-27T23:34:21.679Z"
   },
   {
    "duration": 6,
    "start_time": "2023-12-27T23:34:46.152Z"
   },
   {
    "duration": 6,
    "start_time": "2023-12-27T23:35:05.870Z"
   },
   {
    "duration": 5,
    "start_time": "2023-12-27T23:36:00.505Z"
   },
   {
    "duration": 6,
    "start_time": "2023-12-27T23:36:13.587Z"
   },
   {
    "duration": 4,
    "start_time": "2023-12-27T23:36:28.766Z"
   },
   {
    "duration": 6,
    "start_time": "2023-12-27T23:36:59.980Z"
   },
   {
    "duration": 4,
    "start_time": "2023-12-27T23:37:02.454Z"
   },
   {
    "duration": 12,
    "start_time": "2023-12-27T23:41:52.987Z"
   },
   {
    "duration": 8,
    "start_time": "2023-12-27T23:49:41.121Z"
   },
   {
    "duration": 6,
    "start_time": "2023-12-27T23:52:45.536Z"
   },
   {
    "duration": 795,
    "start_time": "2023-12-28T14:23:53.920Z"
   },
   {
    "duration": 81,
    "start_time": "2023-12-28T14:23:55.314Z"
   },
   {
    "duration": 92,
    "start_time": "2023-12-28T14:23:57.245Z"
   },
   {
    "duration": 64,
    "start_time": "2023-12-28T14:23:58.242Z"
   },
   {
    "duration": 5,
    "start_time": "2023-12-28T14:24:00.099Z"
   },
   {
    "duration": 13,
    "start_time": "2023-12-28T14:24:00.975Z"
   },
   {
    "duration": 10,
    "start_time": "2023-12-28T14:24:01.801Z"
   },
   {
    "duration": 9,
    "start_time": "2023-12-28T14:24:02.537Z"
   },
   {
    "duration": 20,
    "start_time": "2023-12-28T14:24:03.356Z"
   },
   {
    "duration": 6,
    "start_time": "2023-12-28T14:24:05.100Z"
   },
   {
    "duration": 6,
    "start_time": "2023-12-28T14:24:05.800Z"
   },
   {
    "duration": 5,
    "start_time": "2023-12-28T14:24:06.473Z"
   },
   {
    "duration": 5,
    "start_time": "2023-12-28T14:24:07.988Z"
   },
   {
    "duration": 5,
    "start_time": "2023-12-28T14:24:08.711Z"
   },
   {
    "duration": 5,
    "start_time": "2023-12-28T14:24:09.433Z"
   },
   {
    "duration": 9,
    "start_time": "2023-12-28T14:24:11.007Z"
   },
   {
    "duration": 8,
    "start_time": "2023-12-28T14:24:12.835Z"
   },
   {
    "duration": 6,
    "start_time": "2023-12-28T14:24:14.559Z"
   },
   {
    "duration": 4,
    "start_time": "2023-12-28T14:24:44.277Z"
   },
   {
    "duration": 244,
    "start_time": "2023-12-28T14:24:54.380Z"
   },
   {
    "duration": 3,
    "start_time": "2023-12-28T14:26:12.410Z"
   },
   {
    "duration": 32,
    "start_time": "2023-12-28T14:26:13.691Z"
   },
   {
    "duration": 57,
    "start_time": "2023-12-28T14:26:15.016Z"
   },
   {
    "duration": 33,
    "start_time": "2023-12-28T14:26:18.102Z"
   },
   {
    "duration": 5,
    "start_time": "2023-12-28T14:26:20.232Z"
   },
   {
    "duration": 10,
    "start_time": "2023-12-28T14:26:21.701Z"
   },
   {
    "duration": 10,
    "start_time": "2023-12-28T14:26:22.872Z"
   },
   {
    "duration": 12,
    "start_time": "2023-12-28T14:26:24.090Z"
   },
   {
    "duration": 6,
    "start_time": "2023-12-28T14:28:20.748Z"
   },
   {
    "duration": 22,
    "start_time": "2023-12-28T14:28:52.933Z"
   },
   {
    "duration": 20,
    "start_time": "2023-12-28T14:29:37.786Z"
   },
   {
    "duration": 178,
    "start_time": "2023-12-28T14:31:18.688Z"
   },
   {
    "duration": 104,
    "start_time": "2023-12-28T14:31:40.101Z"
   },
   {
    "duration": 24,
    "start_time": "2023-12-28T14:32:09.252Z"
   },
   {
    "duration": 249,
    "start_time": "2023-12-28T14:33:09.153Z"
   },
   {
    "duration": 266,
    "start_time": "2023-12-28T14:33:42.962Z"
   },
   {
    "duration": 246,
    "start_time": "2023-12-28T14:38:03.414Z"
   },
   {
    "duration": 412,
    "start_time": "2023-12-28T14:41:39.591Z"
   },
   {
    "duration": 368,
    "start_time": "2023-12-28T14:41:57.302Z"
   },
   {
    "duration": 164,
    "start_time": "2023-12-28T14:46:33.965Z"
   },
   {
    "duration": 259,
    "start_time": "2023-12-28T14:48:59.783Z"
   },
   {
    "duration": 263,
    "start_time": "2023-12-28T14:53:24.161Z"
   },
   {
    "duration": 396,
    "start_time": "2023-12-28T14:54:10.522Z"
   },
   {
    "duration": 10,
    "start_time": "2023-12-28T15:08:28.129Z"
   },
   {
    "duration": 6,
    "start_time": "2023-12-28T15:08:37.279Z"
   },
   {
    "duration": 11,
    "start_time": "2023-12-28T15:08:45.699Z"
   },
   {
    "duration": 7,
    "start_time": "2023-12-28T15:09:20.902Z"
   },
   {
    "duration": 9,
    "start_time": "2023-12-28T15:10:20.976Z"
   },
   {
    "duration": 4,
    "start_time": "2023-12-28T15:10:33.861Z"
   },
   {
    "duration": 4,
    "start_time": "2023-12-28T15:10:34.493Z"
   },
   {
    "duration": 99,
    "start_time": "2023-12-28T15:10:52.070Z"
   },
   {
    "duration": 111,
    "start_time": "2023-12-28T15:14:58.512Z"
   },
   {
    "duration": 7,
    "start_time": "2023-12-28T15:15:14.468Z"
   },
   {
    "duration": 120,
    "start_time": "2023-12-28T15:18:09.645Z"
   },
   {
    "duration": 2,
    "start_time": "2023-12-28T15:18:34.461Z"
   },
   {
    "duration": 15,
    "start_time": "2023-12-28T15:19:30.802Z"
   },
   {
    "duration": 109,
    "start_time": "2023-12-28T15:20:55.342Z"
   },
   {
    "duration": 103,
    "start_time": "2023-12-28T15:23:46.441Z"
   },
   {
    "duration": 113,
    "start_time": "2023-12-28T15:24:05.944Z"
   },
   {
    "duration": 189,
    "start_time": "2023-12-28T15:25:34.597Z"
   },
   {
    "duration": 4,
    "start_time": "2023-12-28T15:26:06.358Z"
   },
   {
    "duration": 116,
    "start_time": "2023-12-28T15:26:11.790Z"
   },
   {
    "duration": 104,
    "start_time": "2023-12-28T15:26:32.956Z"
   },
   {
    "duration": 125,
    "start_time": "2023-12-28T15:26:44.848Z"
   },
   {
    "duration": 105,
    "start_time": "2023-12-28T15:29:58.275Z"
   },
   {
    "duration": 98,
    "start_time": "2023-12-28T15:30:55.844Z"
   },
   {
    "duration": 10,
    "start_time": "2023-12-28T15:33:02.893Z"
   },
   {
    "duration": 583,
    "start_time": "2023-12-28T15:33:25.465Z"
   },
   {
    "duration": 4,
    "start_time": "2023-12-28T15:34:04.748Z"
   },
   {
    "duration": 3,
    "start_time": "2023-12-28T15:37:27.702Z"
   },
   {
    "duration": 4,
    "start_time": "2023-12-28T15:37:32.240Z"
   },
   {
    "duration": 7,
    "start_time": "2023-12-28T15:37:46.204Z"
   },
   {
    "duration": 118,
    "start_time": "2023-12-28T15:38:15.659Z"
   },
   {
    "duration": 5,
    "start_time": "2023-12-28T15:42:19.929Z"
   },
   {
    "duration": 3,
    "start_time": "2023-12-28T15:44:58.885Z"
   },
   {
    "duration": 477,
    "start_time": "2023-12-28T15:49:36.315Z"
   },
   {
    "duration": 127,
    "start_time": "2023-12-28T15:50:01.801Z"
   },
   {
    "duration": 190,
    "start_time": "2023-12-28T15:53:01.525Z"
   },
   {
    "duration": 129,
    "start_time": "2023-12-28T15:55:50.055Z"
   },
   {
    "duration": 7,
    "start_time": "2023-12-28T15:56:06.350Z"
   },
   {
    "duration": 7,
    "start_time": "2023-12-28T15:56:32.185Z"
   },
   {
    "duration": 148,
    "start_time": "2023-12-28T15:58:20.125Z"
   },
   {
    "duration": 11,
    "start_time": "2023-12-28T16:01:44.059Z"
   },
   {
    "duration": 2,
    "start_time": "2023-12-28T16:05:50.670Z"
   },
   {
    "duration": 9,
    "start_time": "2023-12-28T16:10:18.881Z"
   },
   {
    "duration": 7,
    "start_time": "2023-12-28T16:12:25.471Z"
   },
   {
    "duration": 25,
    "start_time": "2023-12-28T16:12:43.905Z"
   },
   {
    "duration": 13,
    "start_time": "2023-12-28T16:17:06.915Z"
   },
   {
    "duration": 4,
    "start_time": "2023-12-28T16:40:30.805Z"
   },
   {
    "duration": 74,
    "start_time": "2023-12-28T16:40:30.810Z"
   },
   {
    "duration": 46,
    "start_time": "2023-12-28T16:40:30.886Z"
   },
   {
    "duration": 30,
    "start_time": "2023-12-28T16:40:30.933Z"
   },
   {
    "duration": 38,
    "start_time": "2023-12-28T16:40:30.965Z"
   },
   {
    "duration": 35,
    "start_time": "2023-12-28T16:40:31.004Z"
   },
   {
    "duration": 29,
    "start_time": "2023-12-28T16:40:31.041Z"
   },
   {
    "duration": 34,
    "start_time": "2023-12-28T16:40:31.072Z"
   },
   {
    "duration": 38,
    "start_time": "2023-12-28T16:40:31.108Z"
   },
   {
    "duration": 16,
    "start_time": "2023-12-28T16:40:31.148Z"
   },
   {
    "duration": 40,
    "start_time": "2023-12-28T16:40:31.166Z"
   },
   {
    "duration": 21,
    "start_time": "2023-12-28T16:40:31.207Z"
   },
   {
    "duration": 37,
    "start_time": "2023-12-28T16:40:31.230Z"
   },
   {
    "duration": 39,
    "start_time": "2023-12-28T16:40:31.269Z"
   },
   {
    "duration": 43,
    "start_time": "2023-12-28T16:40:31.309Z"
   },
   {
    "duration": 47,
    "start_time": "2023-12-28T16:40:31.353Z"
   },
   {
    "duration": 51,
    "start_time": "2023-12-28T16:40:31.402Z"
   },
   {
    "duration": 58,
    "start_time": "2023-12-28T16:40:31.455Z"
   },
   {
    "duration": 52,
    "start_time": "2023-12-28T16:40:31.514Z"
   },
   {
    "duration": 162,
    "start_time": "2023-12-28T16:40:31.567Z"
   },
   {
    "duration": 112,
    "start_time": "2023-12-28T16:40:31.731Z"
   },
   {
    "duration": 261,
    "start_time": "2023-12-28T16:40:31.845Z"
   },
   {
    "duration": 265,
    "start_time": "2023-12-28T16:40:32.107Z"
   },
   {
    "duration": 180,
    "start_time": "2023-12-28T16:40:32.373Z"
   },
   {
    "duration": 250,
    "start_time": "2023-12-28T16:40:32.554Z"
   },
   {
    "duration": 179,
    "start_time": "2023-12-28T16:40:32.805Z"
   },
   {
    "duration": 349,
    "start_time": "2023-12-28T16:40:32.986Z"
   },
   {
    "duration": 132,
    "start_time": "2023-12-28T16:40:33.336Z"
   },
   {
    "duration": 108,
    "start_time": "2023-12-28T16:40:33.470Z"
   },
   {
    "duration": 3,
    "start_time": "2023-12-28T16:40:33.580Z"
   },
   {
    "duration": 213,
    "start_time": "2023-12-28T16:40:33.585Z"
   },
   {
    "duration": 3,
    "start_time": "2023-12-28T16:40:33.800Z"
   },
   {
    "duration": 230,
    "start_time": "2023-12-28T16:40:33.805Z"
   },
   {
    "duration": 135,
    "start_time": "2023-12-28T16:40:34.037Z"
   },
   {
    "duration": 6,
    "start_time": "2023-12-28T16:40:34.174Z"
   },
   {
    "duration": 6,
    "start_time": "2023-12-28T16:40:34.181Z"
   },
   {
    "duration": 154,
    "start_time": "2023-12-28T16:40:34.190Z"
   },
   {
    "duration": 10,
    "start_time": "2023-12-28T16:40:34.346Z"
   },
   {
    "duration": 9,
    "start_time": "2023-12-28T16:40:34.357Z"
   },
   {
    "duration": 9,
    "start_time": "2023-12-28T16:40:34.367Z"
   },
   {
    "duration": 45,
    "start_time": "2023-12-28T16:40:34.377Z"
   },
   {
    "duration": 13,
    "start_time": "2023-12-28T16:40:34.423Z"
   },
   {
    "duration": 89,
    "start_time": "2023-12-28T19:22:20.473Z"
   },
   {
    "duration": 44,
    "start_time": "2023-12-28T19:34:24.306Z"
   },
   {
    "duration": 1310,
    "start_time": "2023-12-28T19:34:27.650Z"
   },
   {
    "duration": 3,
    "start_time": "2023-12-28T19:34:28.962Z"
   },
   {
    "duration": 70,
    "start_time": "2023-12-28T19:34:29.961Z"
   },
   {
    "duration": 3,
    "start_time": "2023-12-28T19:36:57.765Z"
   },
   {
    "duration": 4,
    "start_time": "2023-12-28T19:36:58.449Z"
   },
   {
    "duration": 31,
    "start_time": "2023-12-28T19:36:59.915Z"
   },
   {
    "duration": 3,
    "start_time": "2023-12-28T19:39:49.669Z"
   },
   {
    "duration": 35,
    "start_time": "2023-12-28T19:39:50.263Z"
   },
   {
    "duration": 3,
    "start_time": "2023-12-28T19:41:24.150Z"
   },
   {
    "duration": 34,
    "start_time": "2023-12-28T19:41:24.877Z"
   },
   {
    "duration": 5,
    "start_time": "2023-12-28T19:43:17.749Z"
   },
   {
    "duration": 30,
    "start_time": "2023-12-28T19:43:18.480Z"
   },
   {
    "duration": 77,
    "start_time": "2023-12-28T19:44:13.720Z"
   },
   {
    "duration": 72,
    "start_time": "2023-12-28T19:54:27.789Z"
   },
   {
    "duration": 62,
    "start_time": "2023-12-28T20:20:50.196Z"
   },
   {
    "duration": 9,
    "start_time": "2023-12-28T20:21:15.250Z"
   },
   {
    "duration": 8,
    "start_time": "2023-12-28T20:21:22.519Z"
   },
   {
    "duration": 4,
    "start_time": "2023-12-28T20:21:39.114Z"
   },
   {
    "duration": 2,
    "start_time": "2023-12-28T20:21:39.807Z"
   },
   {
    "duration": 31,
    "start_time": "2023-12-28T20:21:40.607Z"
   },
   {
    "duration": 103,
    "start_time": "2023-12-28T20:21:45.668Z"
   },
   {
    "duration": 70,
    "start_time": "2023-12-28T20:21:48.828Z"
   },
   {
    "duration": 6,
    "start_time": "2023-12-28T20:21:53.700Z"
   },
   {
    "duration": 11,
    "start_time": "2023-12-28T20:21:55.457Z"
   },
   {
    "duration": 9,
    "start_time": "2023-12-28T20:21:56.257Z"
   },
   {
    "duration": 13,
    "start_time": "2023-12-28T20:21:57.065Z"
   },
   {
    "duration": 28,
    "start_time": "2023-12-28T20:21:58.150Z"
   },
   {
    "duration": 9,
    "start_time": "2023-12-28T20:21:59.781Z"
   },
   {
    "duration": 6,
    "start_time": "2023-12-28T20:22:00.515Z"
   },
   {
    "duration": 6,
    "start_time": "2023-12-28T20:22:01.176Z"
   },
   {
    "duration": 6,
    "start_time": "2023-12-28T20:22:02.640Z"
   },
   {
    "duration": 5,
    "start_time": "2023-12-28T20:22:03.271Z"
   },
   {
    "duration": 5,
    "start_time": "2023-12-28T20:22:03.875Z"
   },
   {
    "duration": 4,
    "start_time": "2023-12-28T20:22:06.218Z"
   },
   {
    "duration": 4,
    "start_time": "2023-12-28T20:22:07.275Z"
   },
   {
    "duration": 1227,
    "start_time": "2023-12-28T20:24:40.886Z"
   },
   {
    "duration": 5,
    "start_time": "2023-12-28T20:24:50.446Z"
   },
   {
    "duration": 4,
    "start_time": "2023-12-28T20:25:15.806Z"
   },
   {
    "duration": 5,
    "start_time": "2023-12-28T20:25:40.970Z"
   },
   {
    "duration": 5,
    "start_time": "2023-12-28T20:25:41.911Z"
   },
   {
    "duration": 5,
    "start_time": "2023-12-28T20:25:59.624Z"
   },
   {
    "duration": 11,
    "start_time": "2023-12-28T20:28:24.366Z"
   },
   {
    "duration": 6,
    "start_time": "2023-12-28T20:29:41.128Z"
   },
   {
    "duration": 8,
    "start_time": "2023-12-28T20:30:28.050Z"
   },
   {
    "duration": 13,
    "start_time": "2023-12-28T20:37:32.417Z"
   },
   {
    "duration": 10,
    "start_time": "2023-12-28T20:41:33.139Z"
   },
   {
    "duration": 7,
    "start_time": "2023-12-28T20:41:39.368Z"
   },
   {
    "duration": 32,
    "start_time": "2023-12-28T20:52:08.255Z"
   },
   {
    "duration": 9,
    "start_time": "2023-12-28T20:53:22.901Z"
   },
   {
    "duration": 6,
    "start_time": "2023-12-28T20:53:47.525Z"
   },
   {
    "duration": 8,
    "start_time": "2023-12-28T20:54:02.662Z"
   },
   {
    "duration": 6,
    "start_time": "2023-12-28T20:54:18.535Z"
   },
   {
    "duration": 7,
    "start_time": "2023-12-28T20:54:27.979Z"
   },
   {
    "duration": 8,
    "start_time": "2023-12-28T20:55:07.359Z"
   },
   {
    "duration": 7,
    "start_time": "2023-12-28T20:55:46.677Z"
   },
   {
    "duration": 8,
    "start_time": "2023-12-28T20:55:56.522Z"
   },
   {
    "duration": 9,
    "start_time": "2023-12-28T20:59:51.542Z"
   },
   {
    "duration": 74,
    "start_time": "2023-12-28T21:00:24.572Z"
   },
   {
    "duration": 10,
    "start_time": "2023-12-28T21:00:35.339Z"
   },
   {
    "duration": 9,
    "start_time": "2023-12-28T21:03:24.017Z"
   },
   {
    "duration": 6,
    "start_time": "2023-12-28T21:03:39.279Z"
   },
   {
    "duration": 157,
    "start_time": "2023-12-28T21:03:39.855Z"
   },
   {
    "duration": 118,
    "start_time": "2023-12-28T21:03:40.745Z"
   },
   {
    "duration": 275,
    "start_time": "2023-12-28T21:03:41.651Z"
   },
   {
    "duration": 4,
    "start_time": "2023-12-28T21:03:44.269Z"
   },
   {
    "duration": 4,
    "start_time": "2023-12-28T21:03:58.795Z"
   },
   {
    "duration": 4,
    "start_time": "2023-12-28T21:06:49.510Z"
   },
   {
    "duration": 4,
    "start_time": "2023-12-28T21:06:50.088Z"
   },
   {
    "duration": 104,
    "start_time": "2023-12-28T21:08:04.664Z"
   },
   {
    "duration": 289,
    "start_time": "2023-12-28T21:36:57.909Z"
   },
   {
    "duration": 195,
    "start_time": "2023-12-28T21:38:31.176Z"
   },
   {
    "duration": 234,
    "start_time": "2023-12-28T21:41:27.794Z"
   },
   {
    "duration": 186,
    "start_time": "2023-12-28T21:41:39.553Z"
   },
   {
    "duration": 196,
    "start_time": "2023-12-28T21:42:40.361Z"
   },
   {
    "duration": 211,
    "start_time": "2023-12-28T21:42:49.272Z"
   },
   {
    "duration": 419,
    "start_time": "2023-12-28T21:44:04.518Z"
   },
   {
    "duration": 320,
    "start_time": "2023-12-28T21:44:47.028Z"
   },
   {
    "duration": 282,
    "start_time": "2023-12-28T21:45:54.341Z"
   },
   {
    "duration": 349,
    "start_time": "2023-12-28T21:47:01.663Z"
   },
   {
    "duration": 147,
    "start_time": "2023-12-28T21:50:18.615Z"
   },
   {
    "duration": 118,
    "start_time": "2023-12-28T21:50:57.528Z"
   },
   {
    "duration": 126,
    "start_time": "2023-12-28T21:51:44.791Z"
   },
   {
    "duration": 122,
    "start_time": "2023-12-28T21:55:56.936Z"
   },
   {
    "duration": 4,
    "start_time": "2023-12-28T21:56:03.687Z"
   },
   {
    "duration": 143,
    "start_time": "2023-12-28T21:56:05.609Z"
   },
   {
    "duration": 3,
    "start_time": "2023-12-28T21:56:17.279Z"
   },
   {
    "duration": 2,
    "start_time": "2023-12-28T21:56:17.889Z"
   },
   {
    "duration": 30,
    "start_time": "2023-12-28T21:56:19.472Z"
   },
   {
    "duration": 56,
    "start_time": "2023-12-28T21:56:21.655Z"
   },
   {
    "duration": 33,
    "start_time": "2023-12-28T21:56:22.781Z"
   },
   {
    "duration": 4,
    "start_time": "2023-12-28T21:56:26.218Z"
   },
   {
    "duration": 10,
    "start_time": "2023-12-28T21:56:27.519Z"
   },
   {
    "duration": 10,
    "start_time": "2023-12-28T21:56:28.253Z"
   },
   {
    "duration": 9,
    "start_time": "2023-12-28T21:56:29.053Z"
   },
   {
    "duration": 20,
    "start_time": "2023-12-28T21:56:30.006Z"
   },
   {
    "duration": 6,
    "start_time": "2023-12-28T21:56:31.578Z"
   },
   {
    "duration": 6,
    "start_time": "2023-12-28T21:56:32.164Z"
   },
   {
    "duration": 6,
    "start_time": "2023-12-28T21:56:32.799Z"
   },
   {
    "duration": 5,
    "start_time": "2023-12-28T21:56:34.159Z"
   },
   {
    "duration": 6,
    "start_time": "2023-12-28T21:56:34.848Z"
   },
   {
    "duration": 5,
    "start_time": "2023-12-28T21:56:35.482Z"
   },
   {
    "duration": 4,
    "start_time": "2023-12-28T21:56:36.805Z"
   },
   {
    "duration": 5,
    "start_time": "2023-12-28T21:56:37.398Z"
   },
   {
    "duration": 4,
    "start_time": "2023-12-28T21:56:38.539Z"
   },
   {
    "duration": 5,
    "start_time": "2023-12-28T21:56:39.874Z"
   },
   {
    "duration": 4,
    "start_time": "2023-12-28T21:56:43.539Z"
   },
   {
    "duration": 4,
    "start_time": "2023-12-28T21:56:44.144Z"
   },
   {
    "duration": 7,
    "start_time": "2023-12-28T21:56:45.923Z"
   },
   {
    "duration": 9,
    "start_time": "2023-12-28T21:56:47.653Z"
   },
   {
    "duration": 8,
    "start_time": "2023-12-28T21:56:52.143Z"
   },
   {
    "duration": 10,
    "start_time": "2023-12-28T21:56:58.223Z"
   },
   {
    "duration": 6,
    "start_time": "2023-12-28T21:57:01.527Z"
   },
   {
    "duration": 6,
    "start_time": "2023-12-28T21:57:05.895Z"
   },
   {
    "duration": 158,
    "start_time": "2023-12-28T21:57:06.699Z"
   },
   {
    "duration": 108,
    "start_time": "2023-12-28T21:57:07.549Z"
   },
   {
    "duration": 253,
    "start_time": "2023-12-28T21:57:08.396Z"
   },
   {
    "duration": 5,
    "start_time": "2023-12-28T21:57:11.128Z"
   },
   {
    "duration": 5,
    "start_time": "2023-12-28T21:57:12.210Z"
   },
   {
    "duration": 197,
    "start_time": "2023-12-28T21:57:18.888Z"
   },
   {
    "duration": 185,
    "start_time": "2023-12-28T21:57:26.753Z"
   },
   {
    "duration": 283,
    "start_time": "2023-12-28T21:57:34.991Z"
   },
   {
    "duration": 205,
    "start_time": "2023-12-28T21:57:41.521Z"
   },
   {
    "duration": 419,
    "start_time": "2023-12-28T21:57:46.921Z"
   },
   {
    "duration": 135,
    "start_time": "2023-12-28T21:57:51.325Z"
   },
   {
    "duration": 118,
    "start_time": "2023-12-28T21:57:58.724Z"
   },
   {
    "duration": 4,
    "start_time": "2023-12-28T21:58:03.470Z"
   },
   {
    "duration": 143,
    "start_time": "2023-12-28T21:58:09.000Z"
   },
   {
    "duration": 4,
    "start_time": "2023-12-28T21:58:13.524Z"
   },
   {
    "duration": 213,
    "start_time": "2023-12-28T21:58:18.919Z"
   },
   {
    "duration": 126,
    "start_time": "2023-12-28T21:58:21.867Z"
   },
   {
    "duration": 9,
    "start_time": "2023-12-28T21:58:22.850Z"
   },
   {
    "duration": 6,
    "start_time": "2023-12-28T21:58:25.308Z"
   },
   {
    "duration": 161,
    "start_time": "2023-12-28T21:58:26.059Z"
   },
   {
    "duration": 163,
    "start_time": "2023-12-28T22:01:17.544Z"
   },
   {
    "duration": 153,
    "start_time": "2023-12-28T22:02:44.163Z"
   },
   {
    "duration": 152,
    "start_time": "2023-12-28T22:02:51.869Z"
   },
   {
    "duration": 160,
    "start_time": "2023-12-28T22:04:16.929Z"
   },
   {
    "duration": 154,
    "start_time": "2023-12-28T22:05:00.971Z"
   },
   {
    "duration": 11,
    "start_time": "2023-12-28T22:05:06.012Z"
   },
   {
    "duration": 11,
    "start_time": "2023-12-28T22:06:04.442Z"
   },
   {
    "duration": 10,
    "start_time": "2023-12-28T22:06:08.413Z"
   },
   {
    "duration": 8,
    "start_time": "2023-12-28T22:06:09.190Z"
   },
   {
    "duration": 8,
    "start_time": "2023-12-28T22:06:17.654Z"
   },
   {
    "duration": 3,
    "start_time": "2023-12-28T22:06:24.852Z"
   },
   {
    "duration": 4,
    "start_time": "2023-12-28T22:06:24.857Z"
   },
   {
    "duration": 36,
    "start_time": "2023-12-28T22:06:24.862Z"
   },
   {
    "duration": 49,
    "start_time": "2023-12-28T22:06:24.900Z"
   },
   {
    "duration": 28,
    "start_time": "2023-12-28T22:06:24.951Z"
   },
   {
    "duration": 6,
    "start_time": "2023-12-28T22:06:24.980Z"
   },
   {
    "duration": 11,
    "start_time": "2023-12-28T22:06:24.988Z"
   },
   {
    "duration": 16,
    "start_time": "2023-12-28T22:06:25.001Z"
   },
   {
    "duration": 25,
    "start_time": "2023-12-28T22:06:25.019Z"
   },
   {
    "duration": 29,
    "start_time": "2023-12-28T22:06:25.046Z"
   },
   {
    "duration": 7,
    "start_time": "2023-12-28T22:06:25.077Z"
   },
   {
    "duration": 8,
    "start_time": "2023-12-28T22:06:25.086Z"
   },
   {
    "duration": 7,
    "start_time": "2023-12-28T22:06:25.096Z"
   },
   {
    "duration": 39,
    "start_time": "2023-12-28T22:06:25.105Z"
   },
   {
    "duration": 5,
    "start_time": "2023-12-28T22:06:25.146Z"
   },
   {
    "duration": 5,
    "start_time": "2023-12-28T22:06:25.153Z"
   },
   {
    "duration": 7,
    "start_time": "2023-12-28T22:06:25.160Z"
   },
   {
    "duration": 6,
    "start_time": "2023-12-28T22:06:25.168Z"
   },
   {
    "duration": 13,
    "start_time": "2023-12-28T22:06:25.176Z"
   },
   {
    "duration": 7,
    "start_time": "2023-12-28T22:06:25.193Z"
   },
   {
    "duration": 40,
    "start_time": "2023-12-28T22:06:25.202Z"
   },
   {
    "duration": 9,
    "start_time": "2023-12-28T22:06:25.244Z"
   },
   {
    "duration": 8,
    "start_time": "2023-12-28T22:06:25.254Z"
   },
   {
    "duration": 11,
    "start_time": "2023-12-28T22:06:25.263Z"
   },
   {
    "duration": 10,
    "start_time": "2023-12-28T22:06:25.275Z"
   },
   {
    "duration": 9,
    "start_time": "2023-12-28T22:06:25.287Z"
   },
   {
    "duration": 7,
    "start_time": "2023-12-28T22:06:25.297Z"
   },
   {
    "duration": 6,
    "start_time": "2023-12-28T22:06:25.343Z"
   },
   {
    "duration": 166,
    "start_time": "2023-12-28T22:06:25.351Z"
   },
   {
    "duration": 133,
    "start_time": "2023-12-28T22:06:25.519Z"
   },
   {
    "duration": 289,
    "start_time": "2023-12-28T22:06:25.653Z"
   },
   {
    "duration": 4,
    "start_time": "2023-12-28T22:06:25.944Z"
   },
   {
    "duration": 7,
    "start_time": "2023-12-28T22:06:25.950Z"
   },
   {
    "duration": 213,
    "start_time": "2023-12-28T22:06:25.958Z"
   },
   {
    "duration": 208,
    "start_time": "2023-12-28T22:06:26.173Z"
   },
   {
    "duration": 302,
    "start_time": "2023-12-28T22:06:26.383Z"
   },
   {
    "duration": 209,
    "start_time": "2023-12-28T22:06:26.687Z"
   },
   {
    "duration": 340,
    "start_time": "2023-12-28T22:06:26.898Z"
   },
   {
    "duration": 147,
    "start_time": "2023-12-28T22:06:27.242Z"
   },
   {
    "duration": 213,
    "start_time": "2023-12-28T22:06:27.390Z"
   },
   {
    "duration": 5,
    "start_time": "2023-12-28T22:06:27.605Z"
   },
   {
    "duration": 167,
    "start_time": "2023-12-28T22:06:27.611Z"
   },
   {
    "duration": 4,
    "start_time": "2023-12-28T22:06:27.780Z"
   },
   {
    "duration": 226,
    "start_time": "2023-12-28T22:06:27.785Z"
   },
   {
    "duration": 148,
    "start_time": "2023-12-28T22:06:28.013Z"
   },
   {
    "duration": 9,
    "start_time": "2023-12-28T22:06:28.163Z"
   },
   {
    "duration": 6,
    "start_time": "2023-12-28T22:06:28.174Z"
   },
   {
    "duration": 166,
    "start_time": "2023-12-28T22:06:28.181Z"
   },
   {
    "duration": 10,
    "start_time": "2023-12-28T22:06:28.348Z"
   },
   {
    "duration": 10,
    "start_time": "2023-12-28T22:06:28.359Z"
   },
   {
    "duration": 13,
    "start_time": "2023-12-28T22:06:28.371Z"
   },
   {
    "duration": 25,
    "start_time": "2023-12-28T22:06:28.386Z"
   },
   {
    "duration": 8,
    "start_time": "2023-12-28T22:06:48.213Z"
   },
   {
    "duration": 24,
    "start_time": "2023-12-28T22:06:48.849Z"
   },
   {
    "duration": 14,
    "start_time": "2023-12-28T22:07:46.946Z"
   },
   {
    "duration": 3,
    "start_time": "2023-12-28T22:08:45.794Z"
   },
   {
    "duration": 4,
    "start_time": "2023-12-28T22:08:45.799Z"
   },
   {
    "duration": 33,
    "start_time": "2023-12-28T22:08:45.804Z"
   },
   {
    "duration": 46,
    "start_time": "2023-12-28T22:08:45.839Z"
   },
   {
    "duration": 24,
    "start_time": "2023-12-28T22:08:45.886Z"
   },
   {
    "duration": 5,
    "start_time": "2023-12-28T22:08:45.911Z"
   },
   {
    "duration": 11,
    "start_time": "2023-12-28T22:08:45.918Z"
   },
   {
    "duration": 10,
    "start_time": "2023-12-28T22:08:45.931Z"
   },
   {
    "duration": 9,
    "start_time": "2023-12-28T22:08:45.944Z"
   },
   {
    "duration": 20,
    "start_time": "2023-12-28T22:08:45.955Z"
   },
   {
    "duration": 5,
    "start_time": "2023-12-28T22:08:45.977Z"
   },
   {
    "duration": 7,
    "start_time": "2023-12-28T22:08:45.984Z"
   },
   {
    "duration": 6,
    "start_time": "2023-12-28T22:08:45.992Z"
   },
   {
    "duration": 5,
    "start_time": "2023-12-28T22:08:46.000Z"
   },
   {
    "duration": 6,
    "start_time": "2023-12-28T22:08:46.043Z"
   },
   {
    "duration": 5,
    "start_time": "2023-12-28T22:08:46.051Z"
   },
   {
    "duration": 12,
    "start_time": "2023-12-28T22:08:46.057Z"
   },
   {
    "duration": 4,
    "start_time": "2023-12-28T22:08:46.071Z"
   },
   {
    "duration": 4,
    "start_time": "2023-12-28T22:08:46.076Z"
   },
   {
    "duration": 4,
    "start_time": "2023-12-28T22:08:46.082Z"
   },
   {
    "duration": 8,
    "start_time": "2023-12-28T22:08:46.088Z"
   },
   {
    "duration": 45,
    "start_time": "2023-12-28T22:08:46.098Z"
   },
   {
    "duration": 9,
    "start_time": "2023-12-28T22:08:46.145Z"
   },
   {
    "duration": 9,
    "start_time": "2023-12-28T22:08:46.158Z"
   },
   {
    "duration": 9,
    "start_time": "2023-12-28T22:08:46.168Z"
   },
   {
    "duration": 8,
    "start_time": "2023-12-28T22:08:46.179Z"
   },
   {
    "duration": 16,
    "start_time": "2023-12-28T22:08:46.189Z"
   },
   {
    "duration": 37,
    "start_time": "2023-12-28T22:08:46.207Z"
   },
   {
    "duration": 174,
    "start_time": "2023-12-28T22:08:46.246Z"
   },
   {
    "duration": 133,
    "start_time": "2023-12-28T22:08:46.422Z"
   },
   {
    "duration": 281,
    "start_time": "2023-12-28T22:08:46.557Z"
   },
   {
    "duration": 5,
    "start_time": "2023-12-28T22:08:46.842Z"
   },
   {
    "duration": 4,
    "start_time": "2023-12-28T22:08:46.849Z"
   },
   {
    "duration": 205,
    "start_time": "2023-12-28T22:08:46.855Z"
   },
   {
    "duration": 202,
    "start_time": "2023-12-28T22:08:47.062Z"
   },
   {
    "duration": 312,
    "start_time": "2023-12-28T22:08:47.266Z"
   },
   {
    "duration": 211,
    "start_time": "2023-12-28T22:08:47.579Z"
   },
   {
    "duration": 357,
    "start_time": "2023-12-28T22:08:47.792Z"
   },
   {
    "duration": 159,
    "start_time": "2023-12-28T22:08:48.150Z"
   },
   {
    "duration": 133,
    "start_time": "2023-12-28T22:08:48.311Z"
   },
   {
    "duration": 4,
    "start_time": "2023-12-28T22:08:48.446Z"
   },
   {
    "duration": 144,
    "start_time": "2023-12-28T22:08:48.451Z"
   },
   {
    "duration": 4,
    "start_time": "2023-12-28T22:08:48.596Z"
   },
   {
    "duration": 321,
    "start_time": "2023-12-28T22:08:48.602Z"
   },
   {
    "duration": 138,
    "start_time": "2023-12-28T22:08:48.925Z"
   },
   {
    "duration": 9,
    "start_time": "2023-12-28T22:08:49.064Z"
   },
   {
    "duration": 7,
    "start_time": "2023-12-28T22:08:49.075Z"
   },
   {
    "duration": 171,
    "start_time": "2023-12-28T22:08:49.083Z"
   },
   {
    "duration": 9,
    "start_time": "2023-12-28T22:08:49.255Z"
   },
   {
    "duration": 11,
    "start_time": "2023-12-28T22:08:49.265Z"
   },
   {
    "duration": 12,
    "start_time": "2023-12-28T22:08:49.277Z"
   },
   {
    "duration": 33,
    "start_time": "2023-12-28T22:08:49.290Z"
   },
   {
    "duration": 25,
    "start_time": "2023-12-28T22:08:49.325Z"
   },
   {
    "duration": 16,
    "start_time": "2023-12-28T22:11:27.828Z"
   },
   {
    "duration": 16,
    "start_time": "2023-12-28T22:11:34.451Z"
   },
   {
    "duration": 15,
    "start_time": "2023-12-28T22:11:42.413Z"
   },
   {
    "duration": 15,
    "start_time": "2023-12-28T22:12:35.563Z"
   },
   {
    "duration": 346,
    "start_time": "2023-12-28T22:13:30.001Z"
   },
   {
    "duration": 370,
    "start_time": "2023-12-28T22:13:36.938Z"
   },
   {
    "duration": 332,
    "start_time": "2023-12-28T22:13:43.674Z"
   },
   {
    "duration": 385,
    "start_time": "2023-12-28T22:13:52.739Z"
   },
   {
    "duration": 374,
    "start_time": "2023-12-28T22:14:03.980Z"
   },
   {
    "duration": 4,
    "start_time": "2023-12-28T22:14:58.294Z"
   },
   {
    "duration": 26,
    "start_time": "2023-12-28T22:14:58.300Z"
   },
   {
    "duration": 51,
    "start_time": "2023-12-28T22:14:58.328Z"
   },
   {
    "duration": 45,
    "start_time": "2023-12-28T22:14:58.382Z"
   },
   {
    "duration": 22,
    "start_time": "2023-12-28T22:14:58.429Z"
   },
   {
    "duration": 6,
    "start_time": "2023-12-28T22:14:58.453Z"
   },
   {
    "duration": 22,
    "start_time": "2023-12-28T22:14:58.461Z"
   },
   {
    "duration": 24,
    "start_time": "2023-12-28T22:14:58.485Z"
   },
   {
    "duration": 31,
    "start_time": "2023-12-28T22:14:58.510Z"
   },
   {
    "duration": 33,
    "start_time": "2023-12-28T22:14:58.543Z"
   },
   {
    "duration": 17,
    "start_time": "2023-12-28T22:14:58.577Z"
   },
   {
    "duration": 10,
    "start_time": "2023-12-28T22:14:58.596Z"
   },
   {
    "duration": 6,
    "start_time": "2023-12-28T22:14:58.608Z"
   },
   {
    "duration": 6,
    "start_time": "2023-12-28T22:14:58.616Z"
   },
   {
    "duration": 7,
    "start_time": "2023-12-28T22:14:58.623Z"
   },
   {
    "duration": 5,
    "start_time": "2023-12-28T22:14:58.643Z"
   },
   {
    "duration": 8,
    "start_time": "2023-12-28T22:14:58.650Z"
   },
   {
    "duration": 4,
    "start_time": "2023-12-28T22:14:58.660Z"
   },
   {
    "duration": 5,
    "start_time": "2023-12-28T22:14:58.666Z"
   },
   {
    "duration": 13,
    "start_time": "2023-12-28T22:14:58.673Z"
   },
   {
    "duration": 6,
    "start_time": "2023-12-28T22:14:58.688Z"
   },
   {
    "duration": 6,
    "start_time": "2023-12-28T22:14:58.695Z"
   },
   {
    "duration": 46,
    "start_time": "2023-12-28T22:14:58.702Z"
   },
   {
    "duration": 11,
    "start_time": "2023-12-28T22:14:58.750Z"
   },
   {
    "duration": 8,
    "start_time": "2023-12-28T22:14:58.763Z"
   },
   {
    "duration": 10,
    "start_time": "2023-12-28T22:14:58.773Z"
   },
   {
    "duration": 8,
    "start_time": "2023-12-28T22:14:58.786Z"
   },
   {
    "duration": 44,
    "start_time": "2023-12-28T22:14:58.799Z"
   },
   {
    "duration": 197,
    "start_time": "2023-12-28T22:14:58.845Z"
   },
   {
    "duration": 134,
    "start_time": "2023-12-28T22:14:59.044Z"
   },
   {
    "duration": 304,
    "start_time": "2023-12-28T22:14:59.179Z"
   },
   {
    "duration": 4,
    "start_time": "2023-12-28T22:14:59.484Z"
   },
   {
    "duration": 4,
    "start_time": "2023-12-28T22:14:59.490Z"
   },
   {
    "duration": 223,
    "start_time": "2023-12-28T22:14:59.496Z"
   },
   {
    "duration": 207,
    "start_time": "2023-12-28T22:14:59.721Z"
   },
   {
    "duration": 302,
    "start_time": "2023-12-28T22:14:59.930Z"
   },
   {
    "duration": 228,
    "start_time": "2023-12-28T22:15:00.234Z"
   },
   {
    "duration": 396,
    "start_time": "2023-12-28T22:15:00.464Z"
   },
   {
    "duration": 248,
    "start_time": "2023-12-28T22:15:00.861Z"
   },
   {
    "duration": 152,
    "start_time": "2023-12-28T22:15:01.111Z"
   },
   {
    "duration": 4,
    "start_time": "2023-12-28T22:15:01.265Z"
   },
   {
    "duration": 183,
    "start_time": "2023-12-28T22:15:01.271Z"
   },
   {
    "duration": 4,
    "start_time": "2023-12-28T22:15:01.455Z"
   },
   {
    "duration": 268,
    "start_time": "2023-12-28T22:15:01.461Z"
   },
   {
    "duration": 159,
    "start_time": "2023-12-28T22:15:01.731Z"
   },
   {
    "duration": 9,
    "start_time": "2023-12-28T22:15:01.891Z"
   },
   {
    "duration": 141,
    "start_time": "2023-12-28T22:15:01.902Z"
   },
   {
    "duration": 159,
    "start_time": "2023-12-28T22:15:02.045Z"
   },
   {
    "duration": 11,
    "start_time": "2023-12-28T22:15:02.206Z"
   },
   {
    "duration": 25,
    "start_time": "2023-12-28T22:15:02.218Z"
   },
   {
    "duration": 11,
    "start_time": "2023-12-28T22:15:02.245Z"
   },
   {
    "duration": 26,
    "start_time": "2023-12-28T22:15:02.258Z"
   },
   {
    "duration": 13,
    "start_time": "2023-12-28T22:15:02.286Z"
   },
   {
    "duration": 16,
    "start_time": "2023-12-28T22:21:20.304Z"
   },
   {
    "duration": 166,
    "start_time": "2023-12-28T22:22:01.357Z"
   },
   {
    "duration": 4,
    "start_time": "2023-12-28T22:25:07.655Z"
   },
   {
    "duration": 9,
    "start_time": "2023-12-28T22:25:07.661Z"
   },
   {
    "duration": 33,
    "start_time": "2023-12-28T22:25:07.671Z"
   },
   {
    "duration": 46,
    "start_time": "2023-12-28T22:25:07.706Z"
   },
   {
    "duration": 24,
    "start_time": "2023-12-28T22:25:07.754Z"
   },
   {
    "duration": 5,
    "start_time": "2023-12-28T22:25:07.779Z"
   },
   {
    "duration": 12,
    "start_time": "2023-12-28T22:25:07.785Z"
   },
   {
    "duration": 13,
    "start_time": "2023-12-28T22:25:07.799Z"
   },
   {
    "duration": 29,
    "start_time": "2023-12-28T22:25:07.814Z"
   },
   {
    "duration": 22,
    "start_time": "2023-12-28T22:25:07.846Z"
   },
   {
    "duration": 6,
    "start_time": "2023-12-28T22:25:07.870Z"
   },
   {
    "duration": 6,
    "start_time": "2023-12-28T22:25:07.877Z"
   },
   {
    "duration": 9,
    "start_time": "2023-12-28T22:25:07.885Z"
   },
   {
    "duration": 7,
    "start_time": "2023-12-28T22:25:07.896Z"
   },
   {
    "duration": 43,
    "start_time": "2023-12-28T22:25:07.904Z"
   },
   {
    "duration": 6,
    "start_time": "2023-12-28T22:25:07.950Z"
   },
   {
    "duration": 6,
    "start_time": "2023-12-28T22:25:07.958Z"
   },
   {
    "duration": 5,
    "start_time": "2023-12-28T22:25:07.966Z"
   },
   {
    "duration": 5,
    "start_time": "2023-12-28T22:25:07.972Z"
   },
   {
    "duration": 5,
    "start_time": "2023-12-28T22:25:07.978Z"
   },
   {
    "duration": 9,
    "start_time": "2023-12-28T22:25:07.984Z"
   },
   {
    "duration": 51,
    "start_time": "2023-12-28T22:25:07.995Z"
   },
   {
    "duration": 18,
    "start_time": "2023-12-28T22:25:08.048Z"
   },
   {
    "duration": 11,
    "start_time": "2023-12-28T22:25:08.068Z"
   },
   {
    "duration": 7,
    "start_time": "2023-12-28T22:25:08.081Z"
   },
   {
    "duration": 12,
    "start_time": "2023-12-28T22:25:08.090Z"
   },
   {
    "duration": 6,
    "start_time": "2023-12-28T22:25:08.103Z"
   },
   {
    "duration": 29,
    "start_time": "2023-12-28T22:25:08.113Z"
   },
   {
    "duration": 171,
    "start_time": "2023-12-28T22:25:08.144Z"
   },
   {
    "duration": 138,
    "start_time": "2023-12-28T22:25:08.317Z"
   },
   {
    "duration": 281,
    "start_time": "2023-12-28T22:25:08.457Z"
   },
   {
    "duration": 5,
    "start_time": "2023-12-28T22:25:08.740Z"
   },
   {
    "duration": 5,
    "start_time": "2023-12-28T22:25:08.746Z"
   },
   {
    "duration": 212,
    "start_time": "2023-12-28T22:25:08.753Z"
   },
   {
    "duration": 214,
    "start_time": "2023-12-28T22:25:08.967Z"
   },
   {
    "duration": 302,
    "start_time": "2023-12-28T22:25:09.183Z"
   },
   {
    "duration": 220,
    "start_time": "2023-12-28T22:25:09.486Z"
   },
   {
    "duration": 421,
    "start_time": "2023-12-28T22:25:09.708Z"
   },
   {
    "duration": 150,
    "start_time": "2023-12-28T22:25:10.131Z"
   },
   {
    "duration": 228,
    "start_time": "2023-12-28T22:25:10.282Z"
   },
   {
    "duration": 4,
    "start_time": "2023-12-28T22:25:10.512Z"
   },
   {
    "duration": 156,
    "start_time": "2023-12-28T22:25:10.518Z"
   },
   {
    "duration": 4,
    "start_time": "2023-12-28T22:25:10.675Z"
   },
   {
    "duration": 217,
    "start_time": "2023-12-28T22:25:10.681Z"
   },
   {
    "duration": 132,
    "start_time": "2023-12-28T22:25:10.899Z"
   },
   {
    "duration": 14,
    "start_time": "2023-12-28T22:25:11.033Z"
   },
   {
    "duration": 6,
    "start_time": "2023-12-28T22:25:11.048Z"
   },
   {
    "duration": 188,
    "start_time": "2023-12-28T22:25:11.055Z"
   },
   {
    "duration": 10,
    "start_time": "2023-12-28T22:25:11.244Z"
   },
   {
    "duration": 8,
    "start_time": "2023-12-28T22:25:11.256Z"
   },
   {
    "duration": 9,
    "start_time": "2023-12-28T22:25:11.266Z"
   },
   {
    "duration": 26,
    "start_time": "2023-12-28T22:25:11.276Z"
   },
   {
    "duration": 45,
    "start_time": "2023-12-28T22:25:11.304Z"
   }
  ],
  "kernelspec": {
   "display_name": "Python 3",
   "language": "python",
   "name": "python3"
  },
  "language_info": {
   "codemirror_mode": {
    "name": "ipython",
    "version": 3
   },
   "file_extension": ".py",
   "mimetype": "text/x-python",
   "name": "python",
   "nbconvert_exporter": "python",
   "pygments_lexer": "ipython3",
   "version": "3.7.4"
  },
  "toc": {
   "base_numbering": 1,
   "nav_menu": {},
   "number_sections": true,
   "sideBar": true,
   "skip_h1_title": true,
   "title_cell": "Table of Contents",
   "title_sidebar": "Contents",
   "toc_cell": false,
   "toc_position": {},
   "toc_section_display": true,
   "toc_window_display": false
  }
 },
 "nbformat": 4,
 "nbformat_minor": 2
}
